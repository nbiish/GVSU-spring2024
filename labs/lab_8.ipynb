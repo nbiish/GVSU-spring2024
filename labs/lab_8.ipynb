{
  "nbformat": 4,
  "nbformat_minor": 0,
  "metadata": {
    "colab": {
      "provenance": [],
      "collapsed_sections": [
        "Z2-5iqMwcyVg",
        "fPw8XrrGczyS",
        "pwHPA5YYc24R",
        "aft3v2fYc5YI"
      ],
      "authorship_tag": "ABX9TyMQDDvNAnEy2Xy+nUTOEVA9",
      "include_colab_link": true
    },
    "kernelspec": {
      "name": "python3",
      "display_name": "Python 3"
    },
    "language_info": {
      "name": "python"
    }
  },
  "cells": [
    {
      "cell_type": "markdown",
      "metadata": {
        "id": "view-in-github",
        "colab_type": "text"
      },
      "source": [
        "<a href=\"https://colab.research.google.com/github/nbiish/GVSU-spring2024/blob/main/lab_8.ipynb\" target=\"_parent\"><img src=\"https://colab.research.google.com/assets/colab-badge.svg\" alt=\"Open In Colab\"/></a>"
      ]
    },
    {
      "cell_type": "markdown",
      "source": [
        "## ✅26.2"
      ],
      "metadata": {
        "id": "-17NYe1tcsm-"
      }
    },
    {
      "cell_type": "code",
      "execution_count": null,
      "metadata": {
        "id": "B9gRwru6JCZc"
      },
      "outputs": [],
      "source": [
        "words = input().split()\n",
        "\n",
        "word_count = {}\n",
        "\n",
        "for word in words:\n",
        "  lower_case_word = word.lower()\n",
        "\n",
        "  if lower_case_word in word_count:\n",
        "    word_count[lower_case_word] += 1\n",
        "  else:\n",
        "    word_count[lower_case_word] = 1\n",
        "\n",
        "output = \"\"\n",
        "\n",
        "for num, word in enumerate(words):\n",
        "    if num == len(words) - 1:\n",
        "        output += f\"{word} {word_count[word.lower()]}\"\n",
        "    else:\n",
        "        output += f\"{word} {word_count[word.lower()]}\\n\"\n",
        "\n",
        "\n",
        "print(output)"
      ]
    },
    {
      "cell_type": "markdown",
      "source": [],
      "metadata": {
        "id": "Yhq_ONz01cy4"
      }
    },
    {
      "cell_type": "markdown",
      "source": [
        "## ✅26.3"
      ],
      "metadata": {
        "id": "Z2-5iqMwcyVg"
      }
    },
    {
      "cell_type": "code",
      "source": [
        "input_one = input().split()\n",
        "input_two = input().split()\n",
        "\n",
        "output = []\n",
        "\n",
        "for i in range(len(input_one)):\n",
        "    word_check_one = input_one[i].lower()\n",
        "    word_check_two = input_two[i].lower()\n",
        "    word_one = input_one[i]\n",
        "    word_two = input_two[i]\n",
        "\n",
        "    if word_check_one != word_check_two:\n",
        "        output.append(f\"{word_one} {word_two}\")\n",
        "\n",
        "for i in output:\n",
        "  print(i)"
      ],
      "metadata": {
        "id": "odKdkvfq2kYw"
      },
      "execution_count": null,
      "outputs": []
    },
    {
      "cell_type": "markdown",
      "source": [
        "## ✅26.8"
      ],
      "metadata": {
        "id": "fPw8XrrGczyS"
      }
    },
    {
      "cell_type": "code",
      "source": [
        "def remove_odds(nums):\n",
        "  return [i#create variable - NO assignment\n",
        "          for i in nums\n",
        "            if i % 2 == 0]\n",
        "\n",
        "if __name__ == '__main__':\n",
        "    nums = [-2, -1, 3, 3, 3]\n",
        "    result = remove_odds(nums)\n",
        "\n",
        "    print(result)"
      ],
      "metadata": {
        "id": "ZbuvHplwVvPp"
      },
      "execution_count": null,
      "outputs": []
    },
    {
      "cell_type": "markdown",
      "source": [
        "## ✅26.9"
      ],
      "metadata": {
        "id": "pwHPA5YYc24R"
      }
    },
    {
      "cell_type": "code",
      "source": [
        "def get_max_int(nums):\n",
        "  max_int = 0\n",
        "  for num in nums:\n",
        "    if num > max_int:\n",
        "      max_int = num\n",
        "  return max_int\n",
        "\n",
        "# when running python3 this_file.py\n",
        "if __name__ == '__main__':\n",
        "\n",
        "  numbers = []\n",
        "\n",
        "  while \"-1\" not in numbers:\n",
        "    to_append = int(input())\n",
        "    if to_append == -1:\n",
        "      break\n",
        "    numbers.append(to_append)\n",
        "  #end of while loop\n",
        "  #nums now in list\n",
        "\n",
        "  max_num = get_max_int(numbers)\n",
        "\n",
        "  for num in numbers:\n",
        "    num = max_num - num\n",
        "    print(num)"
      ],
      "metadata": {
        "id": "MLlROa2SdEPR"
      },
      "execution_count": null,
      "outputs": []
    },
    {
      "cell_type": "markdown",
      "source": [
        "## ✅26.14"
      ],
      "metadata": {
        "id": "aft3v2fYc5YI"
      }
    },
    {
      "cell_type": "code",
      "source": [
        "def is_palindrome(list_to_check):\n",
        "  #INPUT:\n",
        "  # list of numbers\n",
        "\n",
        "  #OUTPUT:\n",
        "  # 'yes' or 'no'\n",
        "\n",
        "  #TODO:\n",
        "  # go over indices in list\n",
        "  # check if = to opposite end of list\n",
        "\n",
        "  it_is_palindrome = False\n",
        "\n",
        "  if list_to_check == list_to_check[::-1]:\n",
        "    it_is_palindrome = True\n",
        "\n",
        "  answer = 'no'\n",
        "  if it_is_palindrome:\n",
        "    answer = 'yes'\n",
        "\n",
        "  return answer\n",
        "\n",
        "\n",
        "\n",
        "#for running file as is\n",
        "if __name__ == '__main__':\n",
        "\n",
        "  #create list with desired length\n",
        "  list_to_check = [''] * int(input())\n",
        "\n",
        "  #enter nums for indices\n",
        "  for i in range(len(list_to_check)):\n",
        "    list_to_check[i] = int(input())\n",
        "\n",
        "  print(is_palindrome(list_to_check))\n"
      ],
      "metadata": {
        "id": "GQEOsLVOdEiK"
      },
      "execution_count": null,
      "outputs": []
    },
    {
      "cell_type": "code",
      "source": [
        "#2"
      ],
      "metadata": {
        "id": "slFhM7R3ML59"
      },
      "execution_count": null,
      "outputs": []
    }
  ]
}
