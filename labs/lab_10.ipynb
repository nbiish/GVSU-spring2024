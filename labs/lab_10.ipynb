{
 "cells": [
  {
   "cell_type": "code",
   "execution_count": 8,
   "metadata": {},
   "outputs": [],
   "source": [
    "# ᓂᐲᔥ Nbiish-Justin Kenwabikise ᑭᓇᐙᐱᑭᓯ \n",
    "# Lab 10"
   ]
  },
  {
   "cell_type": "code",
   "execution_count": 10,
   "metadata": {},
   "outputs": [],
   "source": [
    "# FIRST PART OF LAB 10 - print out checkerboard line\n",
    "\n",
    "class CheckerBoard(tk.Frame):\n",
    "    def __init__(self, master=None):\n",
    "        super().__init__(master)\n",
    "        self.master = master\n",
    "        self.master.title('Checker Board')\n",
    "        self.pack(fill=BOTH, expand=1)\n",
    "        \n",
    "        canvas = Canvas(self)\n",
    "        width = 50\n",
    "        for i in range(8):\n",
    "            columns= i * width\n",
    "            color = 'red' if i % 2 == 0 else 'black'\n",
    "            canvas.create_rectangle(columns, 0, columns+width, width, fill=color)\n",
    "        \n",
    "        canvas.pack(fill=BOTH, expand=1)\n",
    "        self.pack()\n",
    "\n",
    "app_frame = tk.Tk()\n",
    "app_frame.geometry('400x400')\n",
    "checkers = CheckerBoard(master=app_frame)\n",
    "checkers.mainloop()"
   ]
  },
  {
   "cell_type": "code",
   "execution_count": 11,
   "metadata": {},
   "outputs": [],
   "source": [
    "# SECOND PART OF LAB 10 - print out checkerboard all lines (full board)\n",
    "\n",
    "class CheckerBoard(tk.Frame):\n",
    "    def __init__(self, master=None):\n",
    "        super().__init__(master)\n",
    "        self.master = master\n",
    "        self.master.title('Checker Board')\n",
    "        self.pack(fill=BOTH, expand=1)\n",
    "        \n",
    "        canvas = Canvas(self)\n",
    "        width = 50\n",
    "        for i in range(8):\n",
    "            for row_i in range(8):\n",
    "                columns = i * width\n",
    "                rows = row_i * width\n",
    "                color = 'red' if (i + row_i) % 2 == 0 else 'black'\n",
    "                canvas.create_rectangle(columns, rows, columns+width, rows+width, fill=color)\n",
    "        \n",
    "        canvas.pack(fill=BOTH, expand=1)\n",
    "        self.pack()\n",
    "\n",
    "app_frame = tk.Tk()\n",
    "app_frame.geometry('400x400')\n",
    "checkers = CheckerBoard(master=app_frame)\n",
    "checkers.mainloop()"
   ]
  }
 ],
 "metadata": {
  "kernelspec": {
   "display_name": "venv",
   "language": "python",
   "name": "python3"
  },
  "language_info": {
   "codemirror_mode": {
    "name": "ipython",
    "version": 3
   },
   "file_extension": ".py",
   "mimetype": "text/x-python",
   "name": "python",
   "nbconvert_exporter": "python",
   "pygments_lexer": "ipython3",
   "version": "3.11.7"
  }
 },
 "nbformat": 4,
 "nbformat_minor": 2
}
