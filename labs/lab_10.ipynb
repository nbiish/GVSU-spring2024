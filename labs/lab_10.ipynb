{
 "cells": [
  {
   "cell_type": "code",
   "execution_count": 1,
   "metadata": {},
   "outputs": [
    {
     "name": "stdout",
     "output_type": "stream",
     "text": [
      "1 2 3 4 5 6 7 8 9 10 11 12 13 14 15 16 17 18 19 20 21 22 23 24 25 26 27 28 29 30 "
     ]
    }
   ],
   "source": [
    "# Print 1 - 30\n",
    "for i in range(1,31):\n",
    "    print(i,end=' ')"
   ]
  },
  {
   "cell_type": "code",
   "execution_count": 2,
   "metadata": {},
   "outputs": [
    {
     "name": "stdout",
     "output_type": "stream",
     "text": [
      "A B C D E F G H I J K L M N O P Q R S T U V W X Y Z "
     ]
    }
   ],
   "source": [
    "# Print A - Z\n",
    "for i in range(65, 91):\n",
    "    ch = chr(i)\n",
    "    print(ch, end=' ')"
   ]
  },
  {
   "cell_type": "code",
   "execution_count": 3,
   "metadata": {},
   "outputs": [],
   "source": [
    "import tkinter as tk\n",
    "from tkinter import Canvas, Frame, BOTH\n",
    "class CheckerBoard(tk.Frame):\n",
    "    def __init__(self, master=None):\n",
    "        super().__init__(master)\n",
    "        self.master = master\n",
    "        self.master.title('Checker Board')\n",
    "        self.pack(fill=BOTH, expand=1)\n",
    "        \n",
    "        canvas = Canvas(self)\n",
    "        color = 'black'\n",
    "        width = 50\n",
    "        row = 0\n",
    "        col = 0\n",
    "        # Draw a black square in upper left corner of canvas\n",
    "        canvas.create_rectangle(col, row, col+width, row+width, fill=color)\n",
    "        \n",
    "        canvas.pack(fill=BOTH, expand=1)\n",
    "        self.pack()\n",
    "        \n",
    "app_frame = tk.Tk()\n",
    "app_frame.geometry('400x400')\n",
    "checkers = CheckerBoard(master=app_frame)\n",
    "checkers.mainloop()"
   ]
  }
 ],
 "metadata": {
  "kernelspec": {
   "display_name": "venv",
   "language": "python",
   "name": "python3"
  },
  "language_info": {
   "codemirror_mode": {
    "name": "ipython",
    "version": 3
   },
   "file_extension": ".py",
   "mimetype": "text/x-python",
   "name": "python",
   "nbconvert_exporter": "python",
   "pygments_lexer": "ipython3",
   "version": "3.11.7"
  }
 },
 "nbformat": 4,
 "nbformat_minor": 2
}
