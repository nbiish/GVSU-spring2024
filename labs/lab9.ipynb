{
  "nbformat": 4,
  "nbformat_minor": 0,
  "metadata": {
    "colab": {
      "provenance": [],
      "authorship_tag": "ABX9TyPBIkn02dmDNVM5j1UudE9M",
      "include_colab_link": true
    },
    "kernelspec": {
      "name": "python3",
      "display_name": "Python 3"
    },
    "language_info": {
      "name": "python"
    }
  },
  "cells": [
    {
      "cell_type": "markdown",
      "metadata": {
        "id": "view-in-github",
        "colab_type": "text"
      },
      "source": [
        "<a href=\"https://colab.research.google.com/github/nbiish/GVSU-spring2024/blob/main/labs/lab9.ipynb\" target=\"_parent\"><img src=\"https://colab.research.google.com/assets/colab-badge.svg\" alt=\"Open In Colab\"/></a>"
      ]
    },
    {
      "cell_type": "markdown",
      "source": [
        "## ✅26.4"
      ],
      "metadata": {
        "id": "QovZyZ6eeHzs"
      }
    },
    {
      "cell_type": "code",
      "execution_count": null,
      "metadata": {
        "colab": {
          "base_uri": "https://localhost:8080/"
        },
        "id": "iY9Fe9MHeEOT",
        "outputId": "c6951e14-86d2-4bb0-c3b0-81a7ade7980a"
      },
      "outputs": [
        {
          "output_type": "stream",
          "name": "stdout",
          "text": [
            "boozhoo\n",
            "BOOZHOO is worth 21\n"
          ]
        }
      ],
      "source": [
        "tile_dict = { 'A': 1, 'B': 3, 'C': 3, 'D': 2, 'E': 1, 'F': 4, 'G': 2, 'H': 4, 'I': 1, 'J': 8,\n",
        "              'K': 5, 'L': 1, 'M': 3, 'N': 1, 'O': 1, 'P': 3, 'Q': 10, 'R': 1, 'S': 1, 'T': 1,\n",
        "              'U': 1, 'V': 4, 'W': 4, 'X': 8, 'Y': 4, 'Z': 10 }\n",
        "\n",
        "#\n",
        "# INPUT:\n",
        "#   -word\n",
        "#\n",
        "# OUTPUT:\n",
        "#   -total points of word\n",
        "#     * each letter has point in dict\n",
        "#\n",
        "#######################################\n",
        "#\n",
        "# EXAMPLE:\n",
        "#   INPUT:\n",
        "#     -PYTHON\n",
        "#\n",
        "#   OUTPUT:\n",
        "#     -PYTHON is worth 14 points.\n",
        "#\n",
        "\n",
        "def FindWordPoint(input_string):\n",
        "  point_value = 0\n",
        "  for i in range(len(input_string)):\n",
        "    letter = input_string[i]\n",
        "    if letter in tile_dict:\n",
        "      point_value += tile_dict[letter]\n",
        "\n",
        "  return point_value\n",
        "\n",
        "input_word = input().upper()\n",
        "\n",
        "print(f\"{input_word} is worth {FindWordPoint(input_word)} points.\")"
      ]
    },
    {
      "cell_type": "markdown",
      "source": [
        "## ✅26.12"
      ],
      "metadata": {
        "id": "Yo5zJnUkeLCH"
      }
    },
    {
      "cell_type": "code",
      "source": [
        "# INPUT:\n",
        "#   - ints\n",
        "#\n",
        "# OUTPUT:\n",
        "#   - all ints less than\n",
        "#     or equal to last value\n",
        "#\n",
        "#   - EXCLUDE last num\n",
        "#\n",
        "#   - follow each with comma\n",
        "#     including last one\n",
        "#\n",
        "# EXAMPLE:\n",
        "#   - input:\n",
        "#     50 60 140 200 75 100\n",
        "#\n",
        "#   - output:\n",
        "#     50, 60, 75,\n",
        "\n",
        "test_ints = \"1 2 3 4 5 6 7 8 9 10 8\"\n",
        "list_of_ints = test_ints.split()\n",
        "\n",
        "\n",
        "#list_of_ints = input().split()\n",
        "\n",
        "# START of function\n",
        "#----------------------------\n",
        "def printOutLessThanLast(user_input_list):\n",
        "\n",
        "  #before .pop()\n",
        "  #print(user_input_list)\n",
        "\n",
        "  #set threshold\n",
        "  threshold = user_input_list[-1]\n",
        "  #print(threshold)\n",
        "\n",
        "  #aftrer .pop()\n",
        "  user_input_list.pop()\n",
        "  #print(user_input_list)\n",
        "  result_list = []\n",
        "\n",
        "  for i in user_input_list:\n",
        "    if int(i) <= int(threshold):\n",
        "      result_list.append(i)\n",
        "\n",
        "  return \",\".join(result_list)\n",
        "\n",
        "#------------------------------\n",
        "# END of function\n",
        "\n",
        "\n",
        "\n",
        "####### RUN FUNCTION ########\n",
        "print(printOutLessThanLast(list_of_ints), end=',')\n",
        "print()"
      ],
      "metadata": {
        "colab": {
          "base_uri": "https://localhost:8080/"
        },
        "id": "MeZ5xx0ReLfl",
        "outputId": "8c38dd93-fac5-4e79-d982-3ce5b0507df6"
      },
      "execution_count": 29,
      "outputs": [
        {
          "output_type": "stream",
          "name": "stdout",
          "text": [
            "1,2,3,4,5,6,7,8,\n"
          ]
        }
      ]
    },
    {
      "cell_type": "markdown",
      "source": [
        "## ✅26.17"
      ],
      "metadata": {
        "id": "ZjWDkXvSeOXC"
      }
    },
    {
      "cell_type": "code",
      "source": [
        "# INPUT:\n",
        "#   - sequence of ints\n",
        "#     ends with -1\n",
        "#\n",
        "# OUTPUT:\n",
        "#   -\n",
        "\n",
        "num_count = [0] * 21\n",
        "\n",
        "while True:\n",
        "  user_input = int(input())\n",
        "  if user_input == -1:\n",
        "    break\n",
        "  num_count[user_input] += 1\n",
        "\n",
        "mode = 1\n",
        "max_count = num_count[1]\n",
        "for i in range(2, 21):\n",
        "  if num_count[i] > max_count:\n",
        "    mode = i\n",
        "    max_count = num_count[i]\n",
        "\n",
        "print(mode)"
      ],
      "metadata": {
        "id": "j6ETP1M0eOq9",
        "outputId": "a602888b-3926-4f27-bedd-d853eb9fcc2f",
        "colab": {
          "base_uri": "https://localhost:8080/"
        }
      },
      "execution_count": 2,
      "outputs": [
        {
          "output_type": "stream",
          "name": "stdout",
          "text": [
            "5\n",
            "9\n",
            "2\n",
            "2\n",
            "1\n",
            "4\n",
            "5\n",
            "5\n",
            "-1\n",
            "3\n",
            "[0, 1, 2, 0, 1, 3, 0, 0, 0, 1, 0, 0, 0, 0, 0, 0, 0, 0, 0, 0, 0]\n",
            "5\n"
          ]
        }
      ]
    },
    {
      "cell_type": "markdown",
      "source": [
        "## ✅26.21"
      ],
      "metadata": {
        "id": "Kea9qI6VeSDo"
      }
    },
    {
      "cell_type": "code",
      "source": [
        "# INPUT:\n",
        "#   - list of ints\n",
        "#   - start and end positions (two ints)\n",
        "#\n",
        "# OUTPUT:\n",
        "#   - yes if list if ascending\n",
        "#   - otherwise no\n",
        "#\n",
        "def is_sorted(int_list, start, end):\n",
        "  for i in range(start - 1, end - 1):\n",
        "    if int_list[i] > int_list[i + 1]:\n",
        "      return \"no\"\n",
        "  return \"yes\"\n",
        "\n",
        "user_int_list = list(map(int, input().split()))\n",
        "start_position, end_position = map(int, input().split())\n",
        "\n",
        "list_to_check = is_sorted(user_int_list, start_position, end_position)\n",
        "print(list_to_check)"
      ],
      "metadata": {
        "id": "QjsY1ZubeShJ",
        "outputId": "6d5f9223-9109-4eb6-c59b-3cd2662a46d5",
        "colab": {
          "base_uri": "https://localhost:8080/"
        }
      },
      "execution_count": 7,
      "outputs": [
        {
          "output_type": "stream",
          "name": "stdout",
          "text": [
            "1 2 3 4 5 2\n",
            "4\n",
            "6\n",
            "no\n"
          ]
        }
      ]
    },
    {
      "cell_type": "markdown",
      "source": [
        "## ✅26.24"
      ],
      "metadata": {
        "id": "6QOBDjJteV57"
      }
    },
    {
      "cell_type": "code",
      "source": [
        "# INPUT:\n",
        "#   - dictionary\n",
        "#\n",
        "# OUTPUT:\n",
        "#   - all items less than 25 inventory\n",
        "\n",
        "def low_inventory(inventory):\n",
        "  for item, stock in inventory.items():\n",
        "    if stock < 25:\n",
        "      print(item)\n",
        "\n",
        "if __name__ == '__main__':\n",
        "    items = input()\n",
        "    values = input()\n",
        "    items = items.split()\n",
        "    values = [int(v) for v in values.split()]\n",
        "    stock = dict()\n",
        "\n",
        "    for i in range(len(items)):\n",
        "        stock[items[i]] = values[i]\n",
        "\n",
        "    low_inventory(stock)"
      ],
      "metadata": {
        "id": "OewsLlJReWL4"
      },
      "execution_count": null,
      "outputs": []
    }
  ]
}