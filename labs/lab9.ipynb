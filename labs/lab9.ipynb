{
  "nbformat": 4,
  "nbformat_minor": 0,
  "metadata": {
    "colab": {
      "provenance": [],
      "authorship_tag": "ABX9TyOmt0cKJ/HExan7YpsZauLT",
      "include_colab_link": true
    },
    "kernelspec": {
      "name": "python3",
      "display_name": "Python 3"
    },
    "language_info": {
      "name": "python"
    }
  },
  "cells": [
    {
      "cell_type": "markdown",
      "metadata": {
        "id": "view-in-github",
        "colab_type": "text"
      },
      "source": [
        "<a href=\"https://colab.research.google.com/github/nbiish/GVSU-spring2024/blob/main/labs/lab9.ipynb\" target=\"_parent\"><img src=\"https://colab.research.google.com/assets/colab-badge.svg\" alt=\"Open In Colab\"/></a>"
      ]
    },
    {
      "cell_type": "markdown",
      "source": [
        "## ✅26.4"
      ],
      "metadata": {
        "id": "QovZyZ6eeHzs"
      }
    },
    {
      "cell_type": "code",
      "execution_count": 3,
      "metadata": {
        "colab": {
          "base_uri": "https://localhost:8080/"
        },
        "id": "iY9Fe9MHeEOT",
        "outputId": "c6951e14-86d2-4bb0-c3b0-81a7ade7980a"
      },
      "outputs": [
        {
          "output_type": "stream",
          "name": "stdout",
          "text": [
            "boozhoo\n",
            "BOOZHOO is worth 21\n"
          ]
        }
      ],
      "source": [
        "tile_dict = { 'A': 1, 'B': 3, 'C': 3, 'D': 2, 'E': 1, 'F': 4, 'G': 2, 'H': 4, 'I': 1, 'J': 8,\n",
        "              'K': 5, 'L': 1, 'M': 3, 'N': 1, 'O': 1, 'P': 3, 'Q': 10, 'R': 1, 'S': 1, 'T': 1,\n",
        "              'U': 1, 'V': 4, 'W': 4, 'X': 8, 'Y': 4, 'Z': 10 }\n",
        "\n",
        "#\n",
        "# INPUT:\n",
        "#   -word\n",
        "#\n",
        "# OUTPUT:\n",
        "#   -total points of word\n",
        "#     * each letter has point in dict\n",
        "#\n",
        "#######################################\n",
        "#\n",
        "# EXAMPLE:\n",
        "#   INPUT:\n",
        "#     -PYTHON\n",
        "#\n",
        "#   OUTPUT:\n",
        "#     -PYTHON is worth 14 points.\n",
        "#\n",
        "\n",
        "def FindWordPoint(input_string):\n",
        "  point_value = 0\n",
        "  for i in range(len(input_string)):\n",
        "    letter = input_string[i]\n",
        "    if letter in tile_dict:\n",
        "      point_value += tile_dict[letter]\n",
        "\n",
        "  return point_value\n",
        "\n",
        "input_word = input().upper()\n",
        "\n",
        "print(f\"{input_word} is worth {FindWordPoint(input_word)} points.\")"
      ]
    },
    {
      "cell_type": "markdown",
      "source": [
        "## 26.12"
      ],
      "metadata": {
        "id": "Yo5zJnUkeLCH"
      }
    },
    {
      "cell_type": "code",
      "source": [
        "# INPUT:\n",
        "#   - ints\n",
        "#\n",
        "# OUTPUT:\n",
        "#   - all ints less than\n",
        "#     or equal to last value\n",
        "#\n",
        "#   - follow each with comma\n",
        "#     including last one\n",
        "#\n",
        "# EXAMPLE:\n",
        "#   - input:\n",
        "#     50 60 140 200 75 100\n",
        "#\n",
        "#   - output:\n",
        "#     50, 60, 75,\n",
        "\n",
        "list_of_ints = input().split()\n",
        "\n",
        "print(list_of_ints)"
      ],
      "metadata": {
        "colab": {
          "base_uri": "https://localhost:8080/"
        },
        "id": "MeZ5xx0ReLfl",
        "outputId": "ee88412e-7a38-47d9-d742-72e9f7e4942c"
      },
      "execution_count": 4,
      "outputs": [
        {
          "output_type": "stream",
          "name": "stdout",
          "text": [
            "10 20 140\n",
            "['10', '20', '140']\n"
          ]
        }
      ]
    },
    {
      "cell_type": "markdown",
      "source": [
        "## 26.17"
      ],
      "metadata": {
        "id": "ZjWDkXvSeOXC"
      }
    },
    {
      "cell_type": "code",
      "source": [],
      "metadata": {
        "id": "j6ETP1M0eOq9"
      },
      "execution_count": null,
      "outputs": []
    },
    {
      "cell_type": "markdown",
      "source": [
        "## 26.21"
      ],
      "metadata": {
        "id": "Kea9qI6VeSDo"
      }
    },
    {
      "cell_type": "code",
      "source": [],
      "metadata": {
        "id": "QjsY1ZubeShJ"
      },
      "execution_count": null,
      "outputs": []
    },
    {
      "cell_type": "markdown",
      "source": [
        "## 26.24"
      ],
      "metadata": {
        "id": "6QOBDjJteV57"
      }
    },
    {
      "cell_type": "code",
      "source": [],
      "metadata": {
        "id": "OewsLlJReWL4"
      },
      "execution_count": null,
      "outputs": []
    }
  ]
}