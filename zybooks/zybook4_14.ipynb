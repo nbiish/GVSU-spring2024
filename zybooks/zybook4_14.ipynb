{
  "nbformat": 4,
  "nbformat_minor": 0,
  "metadata": {
    "colab": {
      "provenance": [],
      "authorship_tag": "ABX9TyOIzxhZuVePf/pD5Oc/c7yC",
      "include_colab_link": true
    },
    "kernelspec": {
      "name": "python3",
      "display_name": "Python 3"
    },
    "language_info": {
      "name": "python"
    }
  },
  "cells": [
    {
      "cell_type": "markdown",
      "metadata": {
        "id": "view-in-github",
        "colab_type": "text"
      },
      "source": [
        "<a href=\"https://colab.research.google.com/github/nbiish/GVSU-spring2024/blob/main/zybook4_14.ipynb\" target=\"_parent\"><img src=\"https://colab.research.google.com/assets/colab-badge.svg\" alt=\"Open In Colab\"/></a>"
      ]
    },
    {
      "cell_type": "code",
      "execution_count": null,
      "metadata": {
        "id": "cxB6of7CmrwQ"
      },
      "outputs": [],
      "source": [
        "### TODO - season ###\n",
        "#\n",
        "# INPUT:\n",
        "# - [] month\n",
        "# - [] day\n",
        "#\n",
        "# OUTPUT:\n",
        "# - [] season\n",
        "# - [] invalid otherwise"
      ]
    },
    {
      "cell_type": "code",
      "source": [
        "input_mont90h = input()\n",
        "input_day = int(input())\n",
        "\n",
        "lowercase_month = input_month.lower()\n",
        "\n",
        "# Spring: March 20 - June 20\n",
        "# Summer: June 21 - September 21\n",
        "# Autumn: September 22 - December 20\n",
        "# Winter: December 21 - March 19\n",
        "\n",
        "valid_months = ['january', 'february', 'march', 'april', 'may', 'june', 'july', 'august', 'september', 'october', 'november', 'december']\n",
        "\n",
        "if (lowercase_month not in valid_months) or (input_day > 31 or input_day < 1) or ((lowercase_month == 'september') and (input_day>30 or input_day<1)):\n",
        "  print(\"Invalid\")\n",
        "elif ((lowercase_month == 'march') and (31>=input_day>=20)) or ((lowercase_month in ['april', 'may'])) or ((lowercase_month == 'june') and (20>=input_day>=1)):\n",
        "  print(\"Spring\")\n",
        "elif ((lowercase_month == 'june') and (31>=input_day>=21)) or ((input_month in ['july', 'august'])) or ((input_month == 'september') and (21>=input_day>=1)):\n",
        "  print(\"Summer\")\n",
        "elif ((lowercase_month == 'september') and (30>=input_day>=22)) or ((lowercase_month in ['october', 'november',])) or ((lowercase_month == 'december') and (20>=input_day>=1)):\n",
        "  print(\"Autumn\")\n",
        "elif ((lowercase_month == 'december') and (31>=input_day>=21)) or ((lowercase_month in ['january', 'february'])) or ((lowercase_month == 'march') and (19>=input_day>=1)):\n",
        "  print(\"Winter\")"
      ],
      "metadata": {
        "id": "9Jj7RiL1A8oY"
      },
      "execution_count": null,
      "outputs": []
    }
  ]
}
