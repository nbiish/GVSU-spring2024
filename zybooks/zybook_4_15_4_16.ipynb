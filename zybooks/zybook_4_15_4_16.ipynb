{
  "nbformat": 4,
  "nbformat_minor": 0,
  "metadata": {
    "colab": {
      "provenance": [],
      "authorship_tag": "ABX9TyPAu5/BfSVLJIpY/Gmj3nZQ",
      "include_colab_link": true
    },
    "kernelspec": {
      "name": "python3",
      "display_name": "Python 3"
    },
    "language_info": {
      "name": "python"
    }
  },
  "cells": [
    {
      "cell_type": "markdown",
      "metadata": {
        "id": "view-in-github",
        "colab_type": "text"
      },
      "source": [
        "<a href=\"https://colab.research.google.com/github/nbiish/GVSU-spring2024/blob/main/zybooks/zybook_4_15_4_16.ipynb\" target=\"_parent\"><img src=\"https://colab.research.google.com/assets/colab-badge.svg\" alt=\"Open In Colab\"/></a>"
      ]
    },
    {
      "cell_type": "markdown",
      "source": [
        "## ✅4.15"
      ],
      "metadata": {
        "id": "nKQRj44M_Zm7"
      }
    },
    {
      "cell_type": "code",
      "execution_count": null,
      "metadata": {
        "id": "BQ6tH0V-9j5G"
      },
      "outputs": [],
      "source": [
        "# DOES:\n",
        "#   takes in int and outputs easiest change\n",
        "\n",
        "#########################\n",
        "# EXAMPLE_1:\n",
        "#  input:\n",
        "#   0\n",
        "#\n",
        "# output:\n",
        "#   'No change'\n",
        "#####################\n",
        "# EXAMPLE_2:\n",
        "# input:\n",
        "#   45\n",
        "#\n",
        "# output:\n",
        "#   '1 Quarter'\n",
        "#   '2 Dimes'\n",
        "##########################\n",
        "\n",
        "# dimes\n",
        "# quarters\n",
        "# dimes\n",
        "# nickels\n",
        "# pennies\n",
        "\n",
        "change = int(input())\n",
        "dollars = 0\n",
        "quarters = 0\n",
        "dimes = 0\n",
        "nickels = 0\n",
        "penies = 0\n",
        "\n",
        "if change == 0:\n",
        "  print(\"No change\")\n",
        "  exit()\n",
        "\n",
        "\n",
        "if change >= 100:\n",
        "  dollars = change // 100\n",
        "  change -= dollars * 100\n",
        "  if dollars > 1:\n",
        "    print(f\"{dollars} Dollars\")\n",
        "  else:\n",
        "    print(f\"{dollars} Dollar\")\n",
        "\n",
        "if change // 25:\n",
        "  quarters = change // 25\n",
        "  change -= (quarters * 25)\n",
        "  if quarters > 1:\n",
        "    print(f\"{quarters} Quarters\")\n",
        "  else:\n",
        "    print(f\"{quarters} Quarter\")\n",
        "\n",
        "if change // 10:\n",
        "  dimes = (change // 10)\n",
        "  change -= dimes * 10\n",
        "  if dimes > 1:\n",
        "    print(f\"{dimes} Dimes\")\n",
        "  else:\n",
        "    print(f\"{dimes} Dime\")\n",
        "\n",
        "if change // 5:\n",
        "  nickels = (change // 5)\n",
        "  change -= nickels * 5\n",
        "  if nickels > 1:\n",
        "    print(f\"{nickels} Nickels\")\n",
        "  else:\n",
        "    print(f\"{nickels} Nickel\")\n",
        "\n",
        "if change // 1:\n",
        "  pennies = (change // 1)\n",
        "  if pennies > 1:\n",
        "    print(f\"{pennies} Pennies\")\n",
        "  else:\n",
        "    print(f\"{pennies} Penny\")"
      ]
    },
    {
      "cell_type": "markdown",
      "source": [
        "## ✅4.16"
      ],
      "metadata": {
        "id": "5gbm2ZOk_d7c"
      }
    },
    {
      "cell_type": "code",
      "source": [
        "# WHAT:\n",
        "#   leap year calculator\n",
        "\n",
        "#############################\n",
        "# EXAMPLE_1:\n",
        "# input:\n",
        "#   1712\n",
        "#\n",
        "# output:\n",
        "#   1712 - leap year\n",
        "#######################\n",
        "# EXAMPLE_2:\n",
        "# input:\n",
        "#   1914\n",
        "#\n",
        "# output:\n",
        "#   1913 - not a leap year\n",
        "###############################\n",
        "\n",
        "# gregorian year\n",
        "#   = 365 days\n",
        "#\n",
        "# leap year\n",
        "#   = 366 days\n",
        "#\n",
        "# february 29th is the extra day\n",
        "\n",
        "# LEAP YEAR REQUIREMENTS:\n",
        "#   year is divisible by 4\n",
        "#   century years must be divisible by 400\n",
        "#     ex- 1800 NOT 1700\n",
        "\n",
        "# TODO:\n",
        "#   IF:\n",
        "#     check 400 first\n",
        "#     check 4 second\n",
        "#\n",
        "#   ELSE:\n",
        "#     f\"{year} - not a leap year\"\n",
        "\n",
        "is_leap_year = False\n",
        "\n",
        "input_year = int(input())\n",
        "\n",
        "if (input_year % 100 == 0) and (input_year % 400 == 0):\n",
        "  is_leap_year = True\n",
        "\n",
        "if (input_year % 4 == 0) and not(input_year % 100 == 0):\n",
        "    is_leap_year = True\n",
        "\n",
        "if is_leap_year:\n",
        "  print(f\"{input_year} - leap year\")\n",
        "else:\n",
        "  print(f\"{input_year} - not a leap year\")"
      ],
      "metadata": {
        "id": "ZL03jQKp_ePr"
      },
      "execution_count": null,
      "outputs": []
    }
  ]
}