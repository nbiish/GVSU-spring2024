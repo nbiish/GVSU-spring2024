{
  "nbformat": 4,
  "nbformat_minor": 0,
  "metadata": {
    "colab": {
      "provenance": [],
      "authorship_tag": "ABX9TyNh+lFSm/RufDh8LgwAIsBb",
      "include_colab_link": true
    },
    "kernelspec": {
      "name": "python3",
      "display_name": "Python 3"
    },
    "language_info": {
      "name": "python"
    }
  },
  "cells": [
    {
      "cell_type": "markdown",
      "metadata": {
        "id": "view-in-github",
        "colab_type": "text"
      },
      "source": [
        "<a href=\"https://colab.research.google.com/github/nbiish/GVSU-spring2024/blob/main/CIS_Class_Spring_2024.ipynb\" target=\"_parent\"><img src=\"https://colab.research.google.com/assets/colab-badge.svg\" alt=\"Open In Colab\"/></a>"
      ]
    },
    {
      "cell_type": "markdown",
      "source": [
        "## 1/16/24"
      ],
      "metadata": {
        "id": "8u-ARIy6FDTY"
      }
    },
    {
      "cell_type": "code",
      "execution_count": null,
      "metadata": {
        "id": "lQq3TbZbzfUj"
      },
      "outputs": [],
      "source": [
        "325 % 13.5"
      ]
    },
    {
      "cell_type": "code",
      "source": [
        "num = int(input())\n",
        "\n",
        "print(num)"
      ],
      "metadata": {
        "id": "DPA8d6SdzmKX"
      },
      "execution_count": null,
      "outputs": []
    },
    {
      "cell_type": "code",
      "source": [
        "import math\n",
        "\n",
        "print(math.cos(45))"
      ],
      "metadata": {
        "id": "RV9RU3JQ0LKl"
      },
      "execution_count": null,
      "outputs": []
    },
    {
      "cell_type": "code",
      "source": [
        "math.sqrt(120)"
      ],
      "metadata": {
        "id": "dTL5ArHh0Rf0"
      },
      "execution_count": null,
      "outputs": []
    },
    {
      "cell_type": "code",
      "source": [
        "import numpy as np\n",
        "import matplotlib.pyplot as plt\n",
        "\n",
        "x = np.linspace(0, 2*np.pi, 100)\n",
        "\n",
        "y = np.cos(x)\n",
        "\n",
        "plt.plot(x,y)\n",
        "\n",
        "plt.show()"
      ],
      "metadata": {
        "id": "DHitYJ3o1DBt"
      },
      "execution_count": null,
      "outputs": []
    },
    {
      "cell_type": "code",
      "source": [
        "fromDegreesAndBack = (math.radians(45))\n",
        "\n",
        "print(fromDegreesAndBack)\n",
        "\n",
        "print(math.degrees(fromDegreesAndBack))"
      ],
      "metadata": {
        "id": "jo5dMXa96X_5"
      },
      "execution_count": null,
      "outputs": []
    },
    {
      "cell_type": "code",
      "source": [
        "print(f\"${3.12*1.06:.2f}\")"
      ],
      "metadata": {
        "id": "8sLpc6k77a4Y"
      },
      "execution_count": null,
      "outputs": []
    },
    {
      "cell_type": "code",
      "source": [
        "print(math.floor(10.15))"
      ],
      "metadata": {
        "id": "pw1V7den9rok"
      },
      "execution_count": null,
      "outputs": []
    },
    {
      "cell_type": "code",
      "source": [
        "print(f\"{10.25:.0f}\")"
      ],
      "metadata": {
        "id": "xW-u-B6t8Urr"
      },
      "execution_count": null,
      "outputs": []
    },
    {
      "cell_type": "code",
      "source": [
        "print(math.ceil(10.25))"
      ],
      "metadata": {
        "id": "CBOPQUOk9mjN"
      },
      "execution_count": null,
      "outputs": []
    },
    {
      "cell_type": "code",
      "source": [
        "import random\n",
        "\n",
        "for _ in range(10):\n",
        "  print(random.random()*9+1)\n",
        "\n",
        "for _ in range(10):\n",
        "  print(random.randrange(1,11))"
      ],
      "metadata": {
        "id": "TrKU2FYw9589"
      },
      "execution_count": null,
      "outputs": []
    },
    {
      "cell_type": "markdown",
      "source": [
        "## 1/18/24"
      ],
      "metadata": {
        "id": "Sici1mo-FJFi"
      }
    },
    {
      "cell_type": "code",
      "source": [
        "print(\"hello\", end=\", \")\n",
        "print(\"goodbye\")"
      ],
      "metadata": {
        "id": "A5ig6Y4oGGN-"
      },
      "execution_count": null,
      "outputs": []
    },
    {
      "cell_type": "code",
      "source": [
        "import random\n",
        "\n",
        "for _ in range(20):\n",
        "  print(random.randrange(1,11), end=\", \")"
      ],
      "metadata": {
        "id": "s_6Hs4swE96V"
      },
      "execution_count": null,
      "outputs": []
    },
    {
      "cell_type": "code",
      "source": [
        "test_string = \"some test text\" \" additional test text\""
      ],
      "metadata": {
        "id": "VPXVCuKBJVbv"
      },
      "execution_count": null,
      "outputs": []
    },
    {
      "cell_type": "code",
      "source": [
        "print(test_string)\n",
        "\n",
        "print(len(test_string))"
      ],
      "metadata": {
        "id": "oANVP2B1KY7Z"
      },
      "execution_count": null,
      "outputs": []
    },
    {
      "cell_type": "code",
      "source": [
        "print(test_string[-3:])"
      ],
      "metadata": {
        "id": "466LcTPzKo9J"
      },
      "execution_count": null,
      "outputs": []
    },
    {
      "cell_type": "code",
      "source": [
        "binary_example = \"10\"*10"
      ],
      "metadata": {
        "id": "Hxb1zDBXOnxT"
      },
      "execution_count": null,
      "outputs": []
    },
    {
      "cell_type": "code",
      "source": [
        "print(binary_example[::2])"
      ],
      "metadata": {
        "id": "57syxWy2OwLe"
      },
      "execution_count": null,
      "outputs": []
    },
    {
      "cell_type": "code",
      "source": [
        "\" TEST \".center(30,\"*\")"
      ],
      "metadata": {
        "id": "ZS3BwjtXQRVt"
      },
      "execution_count": null,
      "outputs": []
    },
    {
      "cell_type": "markdown",
      "source": [
        "## 1/23/24"
      ],
      "metadata": {
        "id": "Kj5U1eBt1stX"
      }
    },
    {
      "cell_type": "code",
      "source": [
        "s = \"Tuesday\"\n",
        "print(s[:1].lower())"
      ],
      "metadata": {
        "id": "DMXwcw1U1wNm"
      },
      "execution_count": null,
      "outputs": []
    },
    {
      "cell_type": "code",
      "source": [
        "x = int(input())\n",
        "\n",
        "if x < 55:\n",
        "  print(\"Chii Miigwetch!! that's the 'right' number\")\n",
        "elif x > 55 and x < 90:\n",
        "  print(\"That's a special number...\")\n",
        "else:\n",
        "  print(\"I think you should pick another number....\")\n"
      ],
      "metadata": {
        "id": "bY2QL5hp5JK8"
      },
      "execution_count": null,
      "outputs": []
    },
    {
      "cell_type": "markdown",
      "source": [
        "### homework"
      ],
      "metadata": {
        "id": "rSC8oAHCv3UC"
      }
    },
    {
      "cell_type": "code",
      "source": [
        "def parrot_trouble(talking, hour):\n",
        "  if talking is True and (hour > 7 or hour < 20):\n",
        "    return True\n",
        "  else:\n",
        "    return False\n",
        "\n",
        "parrot_trouble(True, 6)"
      ],
      "metadata": {
        "id": "mNsksXRuuepy"
      },
      "execution_count": null,
      "outputs": []
    },
    {
      "cell_type": "code",
      "source": [
        "def front_back(str):\n",
        "  if len(str) < 2:\n",
        "    return str\n",
        "  else:\n",
        "    first_char = str[0]\n",
        "    last_char = str[-1]\n",
        "    middle_chars = str[1:-1]\n",
        "    return last_char + middle_chars + first_char\n",
        "\n",
        "front_back(\"potato\")"
      ],
      "metadata": {
        "id": "5OjvuOMFwJTL"
      },
      "execution_count": null,
      "outputs": []
    },
    {
      "cell_type": "markdown",
      "source": [],
      "metadata": {
        "id": "y2EHLjZ6H6Sk"
      }
    },
    {
      "cell_type": "markdown",
      "source": [
        "## 2/6/24"
      ],
      "metadata": {
        "id": "JHJ4zPMDH80G"
      }
    },
    {
      "cell_type": "code",
      "source": [
        "input_num = int(input(\"Enter a number between 3 and 15: \"))\n",
        "\n",
        "increment_num = 1\n",
        "\n",
        "if input_num < 3 or input_num > 15:\n",
        "  print(\"Not between the numbers\")\n",
        "else:\n",
        "  while increment_num < input_num+1:\n",
        "    print('*' * increment_num)\n",
        "    increment_num += 1"
      ],
      "metadata": {
        "id": "5cNzlhI5H_Xf"
      },
      "execution_count": null,
      "outputs": []
    }
  ]
}