{
  "nbformat": 4,
  "nbformat_minor": 0,
  "metadata": {
    "colab": {
      "provenance": [],
      "authorship_tag": "ABX9TyPOyLh9fkoXzV0qmetVJNT1",
      "include_colab_link": true
    },
    "kernelspec": {
      "name": "python3",
      "display_name": "Python 3"
    },
    "language_info": {
      "name": "python"
    }
  },
  "cells": [
    {
      "cell_type": "markdown",
      "metadata": {
        "id": "view-in-github",
        "colab_type": "text"
      },
      "source": [
        "<a href=\"https://colab.research.google.com/github/nbiish/spring2024cis/blob/main/CIS_Class_Spring_2024.ipynb\" target=\"_parent\"><img src=\"https://colab.research.google.com/assets/colab-badge.svg\" alt=\"Open In Colab\"/></a>"
      ]
    },
    {
      "cell_type": "markdown",
      "source": [
        "## 1/16/24"
      ],
      "metadata": {
        "id": "8u-ARIy6FDTY"
      }
    },
    {
      "cell_type": "code",
      "execution_count": null,
      "metadata": {
        "id": "lQq3TbZbzfUj"
      },
      "outputs": [],
      "source": [
        "325 % 13.5"
      ]
    },
    {
      "cell_type": "code",
      "source": [
        "num = int(input())\n",
        "\n",
        "print(num)"
      ],
      "metadata": {
        "id": "DPA8d6SdzmKX"
      },
      "execution_count": null,
      "outputs": []
    },
    {
      "cell_type": "code",
      "source": [
        "import math\n",
        "\n",
        "print(math.cos(45))"
      ],
      "metadata": {
        "id": "RV9RU3JQ0LKl"
      },
      "execution_count": null,
      "outputs": []
    },
    {
      "cell_type": "code",
      "source": [
        "math.sqrt(120)"
      ],
      "metadata": {
        "id": "dTL5ArHh0Rf0"
      },
      "execution_count": null,
      "outputs": []
    },
    {
      "cell_type": "code",
      "source": [
        "import numpy as np\n",
        "import matplotlib.pyplot as plt\n",
        "\n",
        "x = np.linspace(0, 2*np.pi, 100)\n",
        "\n",
        "y = np.cos(x)\n",
        "\n",
        "plt.plot(x,y)\n",
        "\n",
        "plt.show()"
      ],
      "metadata": {
        "id": "DHitYJ3o1DBt"
      },
      "execution_count": null,
      "outputs": []
    },
    {
      "cell_type": "code",
      "source": [
        "fromDegreesAndBack = (math.radians(45))\n",
        "\n",
        "print(fromDegreesAndBack)\n",
        "\n",
        "print(math.degrees(fromDegreesAndBack))"
      ],
      "metadata": {
        "id": "jo5dMXa96X_5"
      },
      "execution_count": null,
      "outputs": []
    },
    {
      "cell_type": "code",
      "source": [
        "print(f\"${3.12*1.06:.2f}\")"
      ],
      "metadata": {
        "id": "8sLpc6k77a4Y"
      },
      "execution_count": null,
      "outputs": []
    },
    {
      "cell_type": "code",
      "source": [
        "print(math.floor(10.15))"
      ],
      "metadata": {
        "id": "pw1V7den9rok"
      },
      "execution_count": null,
      "outputs": []
    },
    {
      "cell_type": "code",
      "source": [
        "print(f\"{10.25:.0f}\")"
      ],
      "metadata": {
        "id": "xW-u-B6t8Urr"
      },
      "execution_count": null,
      "outputs": []
    },
    {
      "cell_type": "code",
      "source": [
        "print(math.ceil(10.25))"
      ],
      "metadata": {
        "id": "CBOPQUOk9mjN"
      },
      "execution_count": null,
      "outputs": []
    },
    {
      "cell_type": "code",
      "source": [
        "import random\n",
        "\n",
        "for _ in range(10):\n",
        "  print(random.random()*9+1)\n",
        "\n",
        "for _ in range(10):\n",
        "  print(random.randrange(1,11))"
      ],
      "metadata": {
        "id": "TrKU2FYw9589"
      },
      "execution_count": null,
      "outputs": []
    },
    {
      "cell_type": "markdown",
      "source": [
        "## 1/18/24"
      ],
      "metadata": {
        "id": "Sici1mo-FJFi"
      }
    },
    {
      "cell_type": "code",
      "source": [
        "print(\"hello\", end=\", \")\n",
        "print(\"goodbye\")"
      ],
      "metadata": {
        "colab": {
          "base_uri": "https://localhost:8080/"
        },
        "id": "A5ig6Y4oGGN-",
        "outputId": "02acb99d-c945-40ac-dd4d-9b3ee16b5e7d"
      },
      "execution_count": 9,
      "outputs": [
        {
          "output_type": "stream",
          "name": "stdout",
          "text": [
            "hello, , , , , , , , , goodbye\n"
          ]
        }
      ]
    },
    {
      "cell_type": "code",
      "source": [
        "import random\n",
        "\n",
        "for _ in range(20):\n",
        "  print(random.randrange(1,11), end=\", \")"
      ],
      "metadata": {
        "colab": {
          "base_uri": "https://localhost:8080/"
        },
        "id": "s_6Hs4swE96V",
        "outputId": "ae019a05-586f-43a0-d8dc-acbbc6f29fd4"
      },
      "execution_count": 14,
      "outputs": [
        {
          "output_type": "stream",
          "name": "stdout",
          "text": [
            "2, 1, 9, 9, 9, 10, 4, 5, 9, 7, 7, 5, 10, 3, 4, 1, 7, 3, 4, 5, "
          ]
        }
      ]
    },
    {
      "cell_type": "code",
      "source": [
        "test_string = \"some test text\" \" additional test text\""
      ],
      "metadata": {
        "id": "VPXVCuKBJVbv"
      },
      "execution_count": 18,
      "outputs": []
    },
    {
      "cell_type": "code",
      "source": [
        "print(test_string)\n",
        "\n",
        "print(len(test_string))"
      ],
      "metadata": {
        "colab": {
          "base_uri": "https://localhost:8080/"
        },
        "id": "oANVP2B1KY7Z",
        "outputId": "41b15fe1-6ee8-4053-9912-2209b909225d"
      },
      "execution_count": 19,
      "outputs": [
        {
          "output_type": "stream",
          "name": "stdout",
          "text": [
            "some test text additional test text\n",
            "35\n"
          ]
        }
      ]
    },
    {
      "cell_type": "code",
      "source": [
        "print(test_string[-3:])"
      ],
      "metadata": {
        "colab": {
          "base_uri": "https://localhost:8080/"
        },
        "id": "466LcTPzKo9J",
        "outputId": "8972b32b-7e20-4ae9-d828-f8d3b408e41d"
      },
      "execution_count": 34,
      "outputs": [
        {
          "output_type": "stream",
          "name": "stdout",
          "text": [
            "ext\n"
          ]
        }
      ]
    },
    {
      "cell_type": "code",
      "source": [
        "binary_example = \"10\"*10"
      ],
      "metadata": {
        "id": "Hxb1zDBXOnxT"
      },
      "execution_count": 38,
      "outputs": []
    },
    {
      "cell_type": "code",
      "source": [
        "print(binary_example[::2])"
      ],
      "metadata": {
        "colab": {
          "base_uri": "https://localhost:8080/"
        },
        "id": "57syxWy2OwLe",
        "outputId": "c9db10c3-7c7a-40f8-a704-3cdc033147b3"
      },
      "execution_count": 59,
      "outputs": [
        {
          "output_type": "stream",
          "name": "stdout",
          "text": [
            "1111111111\n"
          ]
        }
      ]
    },
    {
      "cell_type": "code",
      "source": [
        "\" TEST \".center(30,\"*\")"
      ],
      "metadata": {
        "colab": {
          "base_uri": "https://localhost:8080/",
          "height": 36
        },
        "id": "ZS3BwjtXQRVt",
        "outputId": "3708b252-8f2c-436c-8e83-2b67f468fc61"
      },
      "execution_count": 47,
      "outputs": [
        {
          "output_type": "execute_result",
          "data": {
            "text/plain": [
              "'************ TEST ************'"
            ],
            "application/vnd.google.colaboratory.intrinsic+json": {
              "type": "string"
            }
          },
          "metadata": {},
          "execution_count": 47
        }
      ]
    }
  ]
}