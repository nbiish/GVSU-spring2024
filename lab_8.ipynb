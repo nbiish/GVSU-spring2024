{
  "nbformat": 4,
  "nbformat_minor": 0,
  "metadata": {
    "colab": {
      "provenance": [],
      "collapsed_sections": [
        "Z2-5iqMwcyVg",
        "fPw8XrrGczyS",
        "pwHPA5YYc24R",
        "aft3v2fYc5YI"
      ],
      "authorship_tag": "ABX9TyPlUCAL+p6Ilvb5qSKsvU1H",
      "include_colab_link": true
    },
    "kernelspec": {
      "name": "python3",
      "display_name": "Python 3"
    },
    "language_info": {
      "name": "python"
    }
  },
  "cells": [
    {
      "cell_type": "markdown",
      "metadata": {
        "id": "view-in-github",
        "colab_type": "text"
      },
      "source": [
        "<a href=\"https://colab.research.google.com/github/nbiish/GVSU-spring2024/blob/main/lab_8.ipynb\" target=\"_parent\"><img src=\"https://colab.research.google.com/assets/colab-badge.svg\" alt=\"Open In Colab\"/></a>"
      ]
    },
    {
      "cell_type": "markdown",
      "source": [
        "## ✅26.2"
      ],
      "metadata": {
        "id": "-17NYe1tcsm-"
      }
    },
    {
      "cell_type": "code",
      "execution_count": 6,
      "metadata": {
        "id": "B9gRwru6JCZc",
        "colab": {
          "base_uri": "https://localhost:8080/"
        },
        "outputId": "1033b399-99cb-43f2-f3bc-2502b1ea1588"
      },
      "outputs": [
        {
          "output_type": "stream",
          "name": "stdout",
          "text": [
            "pickle 3\n",
            "test 2\n",
            "rick 1\n",
            "Pickle 3\n",
            "test 2\n",
            "pickle 3\n"
          ]
        }
      ],
      "source": [
        "words = input().split()\n",
        "\n",
        "word_count = {}\n",
        "\n",
        "for word in words:\n",
        "  lower_case_word = word.lower()\n",
        "\n",
        "  if lower_case_word in word_count:\n",
        "    word_count[lower_case_word] += 1\n",
        "  else:\n",
        "    word_count[lower_case_word] = 1\n",
        "\n",
        "output = \"\"\n",
        "\n",
        "for num, word in enumerate(words):\n",
        "    if num == len(words) - 1:\n",
        "        output += f\"{word} {word_count[word.lower()]}\"\n",
        "    else:\n",
        "        output += f\"{word} {word_count[word.lower()]}\\n\"\n",
        "\n",
        "\n",
        "print(output)"
      ]
    },
    {
      "cell_type": "markdown",
      "source": [],
      "metadata": {
        "id": "Yhq_ONz01cy4"
      }
    },
    {
      "cell_type": "markdown",
      "source": [
        "## 26.3"
      ],
      "metadata": {
        "id": "Z2-5iqMwcyVg"
      }
    },
    {
      "cell_type": "code",
      "source": [
        "input_one = input().split()\n",
        "input_two = input().split()\n",
        "\n",
        "output = \"\"\n",
        "\n",
        "for i in range(len(input_one)):\n",
        "    word_check_one = input_one[i].lower()\n",
        "    word_check_two = input_two[i].lower()\n",
        "    word_one = input_one[i]\n",
        "    word_two = input_two[i]\n",
        "\n",
        "    if word_check_one != word_check_two:\n",
        "        if i == len(input_one) - 1:\n",
        "            output += f\"{word_one} {word_two}\"\n",
        "        else:\n",
        "            output += f\"{word_one} {word_two}\\n\"\n",
        "\n",
        "print(output.split())\n"
      ],
      "metadata": {
        "id": "fai2tvF1dDfN"
      },
      "execution_count": null,
      "outputs": []
    },
    {
      "cell_type": "code",
      "source": [
        "input_one = \"I like turtles\".split()\n",
        "input_two = \"I love turtles\".split()\n",
        "\n",
        "output = \"\"\n",
        "\n",
        "for i in range(len(input_one)):\n",
        "    word_check_one = input_one[i].lower()\n",
        "    word_check_two = input_two[i].lower()\n",
        "    word_one = input_one[i]\n",
        "    word_two = input_two[i]\n",
        "\n",
        "    if word_check_one != word_check_two:\n",
        "        if i == len(input_one) - 1:  # Check for the last pair\n",
        "            output += f\"{word_one} {word_two}\"\n",
        "        else:\n",
        "            output += f\"{word_one} {word_two}\\n\"\n",
        "\n",
        "print(output)\n"
      ],
      "metadata": {
        "colab": {
          "base_uri": "https://localhost:8080/"
        },
        "id": "odKdkvfq2kYw",
        "outputId": "7439c30d-b851-4b04-c3de-9398f562030b"
      },
      "execution_count": 34,
      "outputs": [
        {
          "output_type": "stream",
          "name": "stdout",
          "text": [
            "like love\n",
            "\n"
          ]
        }
      ]
    },
    {
      "cell_type": "markdown",
      "source": [
        "## 26.8"
      ],
      "metadata": {
        "id": "fPw8XrrGczyS"
      }
    },
    {
      "cell_type": "code",
      "source": [],
      "metadata": {
        "id": "EObX1NyAdD6M"
      },
      "execution_count": null,
      "outputs": []
    },
    {
      "cell_type": "markdown",
      "source": [
        "## 26.9"
      ],
      "metadata": {
        "id": "pwHPA5YYc24R"
      }
    },
    {
      "cell_type": "code",
      "source": [],
      "metadata": {
        "id": "MLlROa2SdEPR"
      },
      "execution_count": null,
      "outputs": []
    },
    {
      "cell_type": "markdown",
      "source": [
        "## 26.14"
      ],
      "metadata": {
        "id": "aft3v2fYc5YI"
      }
    },
    {
      "cell_type": "code",
      "source": [],
      "metadata": {
        "id": "GQEOsLVOdEiK"
      },
      "execution_count": null,
      "outputs": []
    }
  ]
}