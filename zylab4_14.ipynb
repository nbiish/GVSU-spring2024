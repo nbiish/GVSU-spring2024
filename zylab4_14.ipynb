{
  "nbformat": 4,
  "nbformat_minor": 0,
  "metadata": {
    "colab": {
      "provenance": [],
      "authorship_tag": "ABX9TyN/hYTOoGmaCd+gFgDpFan+",
      "include_colab_link": true
    },
    "kernelspec": {
      "name": "python3",
      "display_name": "Python 3"
    },
    "language_info": {
      "name": "python"
    }
  },
  "cells": [
    {
      "cell_type": "markdown",
      "metadata": {
        "id": "view-in-github",
        "colab_type": "text"
      },
      "source": [
        "<a href=\"https://colab.research.google.com/github/nbiish/GVSU-spring2024/blob/main/zylab4_14.ipynb\" target=\"_parent\"><img src=\"https://colab.research.google.com/assets/colab-badge.svg\" alt=\"Open In Colab\"/></a>"
      ]
    },
    {
      "cell_type": "code",
      "execution_count": null,
      "metadata": {
        "colab": {
          "base_uri": "https://localhost:8080/"
        },
        "id": "g-YHVYOMe0vA",
        "outputId": "da687f9d-f2b0-466f-c7b7-ea12c825492d"
      },
      "outputs": [
        {
          "output_type": "stream",
          "name": "stdout",
          "text": [
            "barch\n",
            "21\n",
            "Invalid\n"
          ]
        }
      ],
      "source": [
        "\n",
        "#---VALID EXAMPLE----\n",
        "#\n",
        "# INPUT:\n",
        "# April\n",
        "# 11\n",
        "#\n",
        "# OUTPUT:\n",
        "# Spring\n",
        "#\n",
        "#--------------------\n",
        "\n",
        "#---INVALID EXAMPLE---\n",
        "#\n",
        "# INPUT:\n",
        "# Blue\n",
        "# 65\n",
        "#\n",
        "# OUTPUT:\n",
        "# Invalid\n",
        "#\n",
        "#----------------------\n",
        "\n",
        "input_month = input()\n",
        "input_day = int(input())\n",
        "\n",
        "lowercase_month = input_month.lower()\n",
        "\n",
        "# Spring: March 20 - June 20\n",
        "# Summer: June 21 - September 21\n",
        "# Autumn: September 22 - December 20\n",
        "# Winter: December 21 - March 19\n",
        "\n",
        "if (lowercase_month != ('january' or 'february' or 'march' or 'april' or 'may' or 'june' or 'july' or 'august' or 'september' or 'october' or 'november' or 'december')) or ((input_day > 31) or (input_day < 1)):\n",
        "  print(\"Invalid\")\n",
        "elif (lowercase_month == 'march') and ((input_day >= 20) and (input_day >= 31)) or ((lowercase_month == ('april' or 'may')) and (input_day == (input_day <= 31 and input_day >=1))) or ((lowercase_month == 'june') and ((input_day <= 20) and (input_day <= 1))):\n",
        "  print(\"Spring\")"
      ]
    }
  ]
}