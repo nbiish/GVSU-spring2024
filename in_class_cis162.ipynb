{
  "nbformat": 4,
  "nbformat_minor": 0,
  "metadata": {
    "colab": {
      "provenance": [],
      "authorship_tag": "ABX9TyMBgC7hulWKvrhaWhA94e3l",
      "include_colab_link": true
    },
    "kernelspec": {
      "name": "python3",
      "display_name": "Python 3"
    },
    "language_info": {
      "name": "python"
    }
  },
  "cells": [
    {
      "cell_type": "markdown",
      "metadata": {
        "id": "view-in-github",
        "colab_type": "text"
      },
      "source": [
        "<a href=\"https://colab.research.google.com/github/nbiish/GVSU-spring2024/blob/main/CIS_Class_Spring_2024.ipynb\" target=\"_parent\"><img src=\"https://colab.research.google.com/assets/colab-badge.svg\" alt=\"Open In Colab\"/></a>"
      ]
    },
    {
      "cell_type": "markdown",
      "source": [
        "## 1/16/24"
      ],
      "metadata": {
        "id": "8u-ARIy6FDTY"
      }
    },
    {
      "cell_type": "code",
      "execution_count": null,
      "metadata": {
        "id": "lQq3TbZbzfUj"
      },
      "outputs": [],
      "source": [
        "325 % 13.5"
      ]
    },
    {
      "cell_type": "code",
      "source": [
        "num = int(input())\n",
        "\n",
        "print(num)"
      ],
      "metadata": {
        "id": "DPA8d6SdzmKX"
      },
      "execution_count": null,
      "outputs": []
    },
    {
      "cell_type": "code",
      "source": [
        "import math\n",
        "\n",
        "print(math.cos(45))"
      ],
      "metadata": {
        "id": "RV9RU3JQ0LKl"
      },
      "execution_count": null,
      "outputs": []
    },
    {
      "cell_type": "code",
      "source": [
        "math.sqrt(120)"
      ],
      "metadata": {
        "id": "dTL5ArHh0Rf0"
      },
      "execution_count": null,
      "outputs": []
    },
    {
      "cell_type": "code",
      "source": [
        "import numpy as np\n",
        "import matplotlib.pyplot as plt\n",
        "\n",
        "x = np.linspace(0, 2*np.pi, 100)\n",
        "\n",
        "y = np.cos(x)\n",
        "\n",
        "plt.plot(x,y)\n",
        "\n",
        "plt.show()"
      ],
      "metadata": {
        "id": "DHitYJ3o1DBt"
      },
      "execution_count": null,
      "outputs": []
    },
    {
      "cell_type": "code",
      "source": [
        "fromDegreesAndBack = (math.radians(45))\n",
        "\n",
        "print(fromDegreesAndBack)\n",
        "\n",
        "print(math.degrees(fromDegreesAndBack))"
      ],
      "metadata": {
        "id": "jo5dMXa96X_5"
      },
      "execution_count": null,
      "outputs": []
    },
    {
      "cell_type": "code",
      "source": [
        "print(f\"${3.12*1.06:.2f}\")"
      ],
      "metadata": {
        "id": "8sLpc6k77a4Y"
      },
      "execution_count": null,
      "outputs": []
    },
    {
      "cell_type": "code",
      "source": [
        "print(math.floor(10.15))"
      ],
      "metadata": {
        "id": "pw1V7den9rok"
      },
      "execution_count": null,
      "outputs": []
    },
    {
      "cell_type": "code",
      "source": [
        "print(f\"{10.25:.0f}\")"
      ],
      "metadata": {
        "id": "xW-u-B6t8Urr"
      },
      "execution_count": null,
      "outputs": []
    },
    {
      "cell_type": "code",
      "source": [
        "print(math.ceil(10.25))"
      ],
      "metadata": {
        "id": "CBOPQUOk9mjN"
      },
      "execution_count": null,
      "outputs": []
    },
    {
      "cell_type": "code",
      "source": [
        "import random\n",
        "\n",
        "for _ in range(10):\n",
        "  print(random.random()*9+1)\n",
        "\n",
        "for _ in range(10):\n",
        "  print(random.randrange(1,11))"
      ],
      "metadata": {
        "id": "TrKU2FYw9589"
      },
      "execution_count": null,
      "outputs": []
    },
    {
      "cell_type": "markdown",
      "source": [
        "## 1/18/24"
      ],
      "metadata": {
        "id": "Sici1mo-FJFi"
      }
    },
    {
      "cell_type": "code",
      "source": [
        "print(\"hello\", end=\", \")\n",
        "print(\"goodbye\")"
      ],
      "metadata": {
        "id": "A5ig6Y4oGGN-"
      },
      "execution_count": null,
      "outputs": []
    },
    {
      "cell_type": "code",
      "source": [
        "import random\n",
        "\n",
        "for _ in range(20):\n",
        "  print(random.randrange(1,11), end=\", \")"
      ],
      "metadata": {
        "id": "s_6Hs4swE96V"
      },
      "execution_count": null,
      "outputs": []
    },
    {
      "cell_type": "code",
      "source": [
        "test_string = \"some test text\" \" additional test text\""
      ],
      "metadata": {
        "id": "VPXVCuKBJVbv"
      },
      "execution_count": null,
      "outputs": []
    },
    {
      "cell_type": "code",
      "source": [
        "print(test_string)\n",
        "\n",
        "print(len(test_string))"
      ],
      "metadata": {
        "id": "oANVP2B1KY7Z"
      },
      "execution_count": null,
      "outputs": []
    },
    {
      "cell_type": "code",
      "source": [
        "print(test_string[-3:])"
      ],
      "metadata": {
        "id": "466LcTPzKo9J"
      },
      "execution_count": null,
      "outputs": []
    },
    {
      "cell_type": "code",
      "source": [
        "binary_example = \"10\"*10"
      ],
      "metadata": {
        "id": "Hxb1zDBXOnxT"
      },
      "execution_count": null,
      "outputs": []
    },
    {
      "cell_type": "code",
      "source": [
        "print(binary_example[::2])"
      ],
      "metadata": {
        "id": "57syxWy2OwLe"
      },
      "execution_count": null,
      "outputs": []
    },
    {
      "cell_type": "code",
      "source": [
        "\" TEST \".center(30,\"*\")"
      ],
      "metadata": {
        "id": "ZS3BwjtXQRVt"
      },
      "execution_count": null,
      "outputs": []
    },
    {
      "cell_type": "markdown",
      "source": [
        "## 1/23/24"
      ],
      "metadata": {
        "id": "Kj5U1eBt1stX"
      }
    },
    {
      "cell_type": "code",
      "source": [
        "s = \"Tuesday\"\n",
        "print(s[:1].lower())"
      ],
      "metadata": {
        "id": "DMXwcw1U1wNm"
      },
      "execution_count": null,
      "outputs": []
    },
    {
      "cell_type": "code",
      "source": [
        "x = int(input())\n",
        "\n",
        "if x < 55:\n",
        "  print(\"Chii Miigwetch!! that's the 'right' number\")\n",
        "elif x > 55 and x < 90:\n",
        "  print(\"That's a special number...\")\n",
        "else:\n",
        "  print(\"I think you should pick another number....\")\n"
      ],
      "metadata": {
        "id": "bY2QL5hp5JK8"
      },
      "execution_count": null,
      "outputs": []
    },
    {
      "cell_type": "markdown",
      "source": [
        "### homework"
      ],
      "metadata": {
        "id": "rSC8oAHCv3UC"
      }
    },
    {
      "cell_type": "code",
      "source": [
        "def parrot_trouble(talking, hour):\n",
        "  if talking is True and (hour > 7 or hour < 20):\n",
        "    return True\n",
        "  else:\n",
        "    return False\n",
        "\n",
        "parrot_trouble(True, 6)"
      ],
      "metadata": {
        "id": "mNsksXRuuepy"
      },
      "execution_count": null,
      "outputs": []
    },
    {
      "cell_type": "code",
      "source": [
        "def front_back(str):\n",
        "  if len(str) < 2:\n",
        "    return str\n",
        "  else:\n",
        "    first_char = str[0]\n",
        "    last_char = str[-1]\n",
        "    middle_chars = str[1:-1]\n",
        "    return last_char + middle_chars + first_char\n",
        "\n",
        "front_back(\"potato\")"
      ],
      "metadata": {
        "id": "5OjvuOMFwJTL"
      },
      "execution_count": null,
      "outputs": []
    },
    {
      "cell_type": "markdown",
      "source": [],
      "metadata": {
        "id": "y2EHLjZ6H6Sk"
      }
    },
    {
      "cell_type": "markdown",
      "source": [
        "## 2/6/24"
      ],
      "metadata": {
        "id": "JHJ4zPMDH80G"
      }
    },
    {
      "cell_type": "code",
      "source": [
        "input_num = int(input(\"Enter a number between 3 and 15: \"))\n",
        "\n",
        "increment_num = 1\n",
        "\n",
        "if input_num < 3 or input_num > 15:\n",
        "  print(\"Not between the numbers\")\n",
        "else:\n",
        "  while increment_num < input_num+1:\n",
        "    print('*' * increment_num)\n",
        "    increment_num += 1"
      ],
      "metadata": {
        "id": "5cNzlhI5H_Xf"
      },
      "execution_count": null,
      "outputs": []
    },
    {
      "cell_type": "markdown",
      "source": [
        "## 2/8/24"
      ],
      "metadata": {
        "id": "tuzMWl9iWryW"
      }
    },
    {
      "cell_type": "code",
      "source": [
        "# take in user evens adding & figuring average along the way --- stop when an odd is input --- print out average of evens\n",
        "# NOT complete & working\n",
        "is_even = True\n",
        "\n",
        "user_input = int(input())\n",
        "\n",
        "num_of_evens = 0\n",
        "input_total = 0\n",
        "\n",
        "while (user_input >= 0) and (is_even):\n",
        "  user_input = int(input())\n",
        "  if user_input % 2 != 0:\n",
        "    is_even = False\n",
        "    break\n",
        "  input_total += user_input\n",
        "  num_of_evens += 1\n",
        "else:\n",
        "  print(f\"{input_total / num_of_evens}\")"
      ],
      "metadata": {
        "id": "RHK6kifGW6os"
      },
      "execution_count": null,
      "outputs": []
    },
    {
      "cell_type": "code",
      "source": [
        "# take in user input str and print out the chars vertically\n",
        "# COMPLETE & WORKING\n",
        "\n",
        "user_input = input(\"Enter a 'str'\")\n",
        "\n",
        "for char in user_input:\n",
        "  print(char)"
      ],
      "metadata": {
        "id": "uVjgov8rWufC"
      },
      "execution_count": null,
      "outputs": []
    },
    {
      "cell_type": "markdown",
      "source": [
        "## 2/20/24"
      ],
      "metadata": {
        "id": "9rDzq69KFhSG"
      }
    },
    {
      "cell_type": "code",
      "source": [
        "import random\n",
        "\n",
        "user_continue = \"y\"\n",
        "while user_continue == \"y\":\n",
        "  print(random.randint(0,1000))\n",
        "  user_continue = input(\"Would you like another number? (y/n)\")"
      ],
      "metadata": {
        "id": "REd8YMruFnXu"
      },
      "execution_count": null,
      "outputs": []
    },
    {
      "cell_type": "code",
      "source": [
        "sum = 0\n",
        "for i in range(10):\n",
        "  num = random.randint(0,100)\n",
        "  print(num)\n",
        "  sum += num\n",
        "\n",
        "print(f\"The sum is {sum} with an average is {sum/10}\")"
      ],
      "metadata": {
        "id": "gtazygV0HGoF"
      },
      "execution_count": null,
      "outputs": []
    },
    {
      "cell_type": "code",
      "source": [
        "num_ints = 10\n",
        "\n",
        "nums = []\n",
        "\n",
        "for i in range(num_ints):\n",
        "  nums.append(random.randint(0,100))\n",
        "\n",
        "sum = sum(nums)\n",
        "print(f\"Sum if {sum}, Average is {sum/len(nums)}\")"
      ],
      "metadata": {
        "id": "OeUIDWxUJFSa",
        "outputId": "89a2c930-4524-4dec-eade-a95fb51958af",
        "colab": {
          "base_uri": "https://localhost:8080/"
        }
      },
      "execution_count": 35,
      "outputs": [
        {
          "output_type": "stream",
          "name": "stdout",
          "text": [
            "Sum if 417, Average is 41.7\n"
          ]
        }
      ]
    },
    {
      "cell_type": "code",
      "source": [
        "del sum"
      ],
      "metadata": {
        "id": "IterbmsRLwsl"
      },
      "execution_count": 34,
      "outputs": []
    },
    {
      "cell_type": "code",
      "source": [
        "print(nums[0:20])"
      ],
      "metadata": {
        "id": "RULBxlCvMUH7",
        "outputId": "a37f613e-f9a3-417a-9f8f-0cbe3761118b",
        "colab": {
          "base_uri": "https://localhost:8080/"
        }
      },
      "execution_count": 23,
      "outputs": [
        {
          "output_type": "stream",
          "name": "stdout",
          "text": [
            "[43, 3, 35, 76, 13, 70, 77, 61, 39, 53]\n"
          ]
        }
      ]
    },
    {
      "cell_type": "code",
      "source": [
        "len(nums)"
      ],
      "metadata": {
        "id": "MSJIEb4OMXSp",
        "outputId": "da1273b9-4057-4761-8c7d-dd59ca0ac558",
        "colab": {
          "base_uri": "https://localhost:8080/"
        }
      },
      "execution_count": 27,
      "outputs": [
        {
          "output_type": "execute_result",
          "data": {
            "text/plain": [
              "10"
            ]
          },
          "metadata": {},
          "execution_count": 27
        }
      ]
    },
    {
      "cell_type": "code",
      "source": [
        "highest_number = nums[0]\n",
        "\n",
        "for number in nums:\n",
        "  if number > highest_number:\n",
        "    highest_number = number\n",
        "\n",
        "print(f\"Heres the max number {highest_number}\")"
      ],
      "metadata": {
        "id": "CWPw4nwRNCoi",
        "outputId": "d1a7f3f9-f122-4a33-ba35-2b72e9453475",
        "colab": {
          "base_uri": "https://localhost:8080/"
        }
      },
      "execution_count": 37,
      "outputs": [
        {
          "output_type": "stream",
          "name": "stdout",
          "text": [
            "Heres the max number 88\n"
          ]
        }
      ]
    },
    {
      "cell_type": "code",
      "source": [
        "highest_number = nums[0]\n",
        "\n",
        "#the nums[1:] part if checking against the first number\n",
        "# vs\n",
        "#the above checking the first index against itself\n",
        "for number in nums[1:]:\n",
        "  if number > highest_number:\n",
        "    highest_number = number\n",
        "\n",
        "print(f\"Heres the max number {highest_number}\")"
      ],
      "metadata": {
        "id": "wGcXli8RPBDQ",
        "outputId": "05be07d0-502c-4fa9-8bad-29d456c10dae",
        "colab": {
          "base_uri": "https://localhost:8080/"
        }
      },
      "execution_count": 38,
      "outputs": [
        {
          "output_type": "stream",
          "name": "stdout",
          "text": [
            "Heres the max number 88\n"
          ]
        }
      ]
    },
    {
      "cell_type": "code",
      "source": [
        "print(nums[0:10])\n",
        "nums.pop(0)\n",
        "nums.pop(0)\n",
        "nums.pop(0)\n",
        "print(nums[0:10])"
      ],
      "metadata": {
        "id": "0OMnHWSXPXU6"
      },
      "execution_count": null,
      "outputs": []
    }
  ]
}
