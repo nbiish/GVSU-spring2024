{
  "nbformat": 4,
  "nbformat_minor": 0,
  "metadata": {
    "colab": {
      "provenance": [],
      "authorship_tag": "ABX9TyPEjt8H32PezNj68B3iKfhQ",
      "include_colab_link": true
    },
    "kernelspec": {
      "name": "python3",
      "display_name": "Python 3"
    },
    "language_info": {
      "name": "python"
    }
  },
  "cells": [
    {
      "cell_type": "markdown",
      "metadata": {
        "id": "view-in-github",
        "colab_type": "text"
      },
      "source": [
        "<a href=\"https://colab.research.google.com/github/nbiish/GVSU-spring2024/blob/main/Zylab4_13.ipynb\" target=\"_parent\"><img src=\"https://colab.research.google.com/assets/colab-badge.svg\" alt=\"Open In Colab\"/></a>"
      ]
    },
    {
      "cell_type": "code",
      "execution_count": 30,
      "metadata": {
        "colab": {
          "base_uri": "https://localhost:8080/"
        },
        "id": "tTWjRrLgU2z6",
        "outputId": "a38c9251-efab-42f2-8f90-e44ac2e5dff5"
      },
      "outputs": [
        {
          "output_type": "stream",
          "name": "stdout",
          "text": [
            "5\n",
            "I-5 is primary, going north/south.\n"
          ]
        }
      ],
      "source": [
        "highway_number = int(input())\n",
        "\n",
        "# interstate highways are 1-99\n",
        "# auxiliary highways are 100-999 that serice the rightmost two numbers (of a main highway)\n",
        "\n",
        "#I-405 services the 05 highway - north to south\n",
        "#I-290 services the 90 highway - east to west\n",
        "\n",
        "####################################################################################\n",
        "# validity check\n",
        "\n",
        "\n",
        "is_valid = True\n",
        "\n",
        "if (highway_number % 100 == 0) or (highway_number == 0):\n",
        "    is_valid = False\n",
        "\n",
        "#####################################################################################\n",
        "# check if even\n",
        "\n",
        "is_even = False\n",
        "is_odd = False\n",
        "\n",
        "if ((highway_number % 2) == 0) & is_valid:\n",
        "    is_even = True\n",
        "elif ((highway_number % 2) != 0) & is_valid:\n",
        "  is_odd = True\n",
        "\n",
        "##########################################################################\n",
        "#format string and input\n",
        "\n",
        "highway_num_string = str(highway_number)\n",
        "\n",
        "auxiliary_num_string = str(highway_number)\n",
        "auxiliary_num_string = auxiliary_num_string[-2:]\n",
        "\n",
        "if len(highway_num_string) == 1:\n",
        "  highway_num_string = highway_num_string[-1]\n",
        "elif len(highway_num_string) == 2:\n",
        "  highway_num_string = highway_num_string[-2:]\n",
        "elif len(highway_num_string) == 3:\n",
        "  highway_num_string = highway_num_string[-3:]\n",
        "\n",
        "if int(auxiliary_num_string[0]) == 0:\n",
        "  auxiliary_num_string = highway_num_string[-1]\n",
        "\n",
        "##############################################################\n",
        "\n",
        "if is_even & (highway_number > 99):\n",
        "  #print auxliary\n",
        "  print(f\"I-{highway_number} is auxiliary, serving I-{auxiliary_num_string}, going east/west.\")\n",
        "\n",
        "elif is_even & (highway_number <= 99):\n",
        "  print(f\"I-{highway_number} is primary, going east/west.\")\n",
        "\n",
        "elif is_odd & (highway_number > 99):\n",
        "  print(f\"I-{highway_number} is auxiliary, serving I-{auxiliary_num_string}, going north/south.\")\n",
        "\n",
        "elif is_odd & (highway_number <= 99):\n",
        "  print(f\"I-{highway_number} is primary, going north/south.\")\n",
        "\n",
        "else:\n",
        "  print(f\"{highway_number} is not a valid interstate highway number.\")"
      ]
    }
  ]
}