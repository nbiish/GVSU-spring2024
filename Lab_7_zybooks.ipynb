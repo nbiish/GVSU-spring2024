{
  "nbformat": 4,
  "nbformat_minor": 0,
  "metadata": {
    "colab": {
      "provenance": [],
      "authorship_tag": "ABX9TyPFYO6tPw7h+Cp98sxbbYUO",
      "include_colab_link": true
    },
    "kernelspec": {
      "name": "python3",
      "display_name": "Python 3"
    },
    "language_info": {
      "name": "python"
    }
  },
  "cells": [
    {
      "cell_type": "markdown",
      "metadata": {
        "id": "view-in-github",
        "colab_type": "text"
      },
      "source": [
        "<a href=\"https://colab.research.google.com/github/nbiish/GVSU-spring2024/blob/main/Lab_7_zybooks.ipynb\" target=\"_parent\"><img src=\"https://colab.research.google.com/assets/colab-badge.svg\" alt=\"Open In Colab\"/></a>"
      ]
    },
    {
      "cell_type": "markdown",
      "source": [
        "# ✅23.2"
      ],
      "metadata": {
        "id": "g9GnxDdyTqsO"
      }
    },
    {
      "cell_type": "code",
      "execution_count": 47,
      "metadata": {
        "colab": {
          "base_uri": "https://localhost:8080/"
        },
        "id": "FL0Jgj94ToS5",
        "outputId": "ee027487-de18-428c-9787-5fe0285f3ade"
      },
      "outputs": [
        {
          "output_type": "stream",
          "name": "stdout",
          "text": [
            "Enter countdown start between 11-99: 11\n",
            "11\n"
          ]
        }
      ],
      "source": [
        "countdown_input = int(input(\"\"))\n",
        "\n",
        "while True:\n",
        "  if (countdown_input > 99) or (countdown_input<11):\n",
        "    print(\"Input must be 11-99\")\n",
        "    break\n",
        "  elif (countdown_input % 10) == (countdown_input // 10):\n",
        "    print(countdown_input)\n",
        "    break\n",
        "  print(countdown_input)\n",
        "  countdown_input -= 1"
      ]
    },
    {
      "cell_type": "code",
      "source": [
        "number = 23\n",
        "print(number // 10)\n",
        "print(number % 10)"
      ],
      "metadata": {
        "colab": {
          "base_uri": "https://localhost:8080/"
        },
        "id": "ydfLy_EaVcJU",
        "outputId": "e3fbb552-7389-43e5-a280-3a0079ac5651"
      },
      "execution_count": 8,
      "outputs": [
        {
          "output_type": "stream",
          "name": "stdout",
          "text": [
            "2\n",
            "3\n"
          ]
        }
      ]
    },
    {
      "cell_type": "markdown",
      "source": [
        "## ✅23.5"
      ],
      "metadata": {
        "id": "mO9mKVtPTu5G"
      }
    },
    {
      "cell_type": "code",
      "source": [
        "low = int(input())\n",
        "high = int(input())\n",
        "x = int(input())\n",
        "\n",
        "print_list = []\n",
        "\n",
        "print(f\"Multiples of {x}: \", end='')\n",
        "for i in range(low, high):\n",
        "  if i % x == 0:\n",
        "    print(f\"{i}\", end=',')\n",
        "print()"
      ],
      "metadata": {
        "colab": {
          "base_uri": "https://localhost:8080/"
        },
        "id": "Nb97l2Yubz-E",
        "outputId": "b5cf7826-27a6-4765-d821-3c8236ef9b4d"
      },
      "execution_count": 63,
      "outputs": [
        {
          "output_type": "stream",
          "name": "stdout",
          "text": [
            "1\n",
            "10\n",
            "2\n",
            "Multiples of 2: 2,4,6,8,\n"
          ]
        }
      ]
    },
    {
      "cell_type": "markdown",
      "source": [
        "# ✅23.7"
      ],
      "metadata": {
        "id": "mlVV0xs4TzIX"
      }
    },
    {
      "cell_type": "code",
      "source": [
        "n = int(input())\n",
        "\n",
        "line_count = 0\n",
        "max_line_size = 5\n",
        "\n",
        "while (n != 1):\n",
        "  print(f\"{n:.0f}\", end=\"\\t\")\n",
        "  line_count += 1\n",
        "\n",
        "  if line_count % 5 == 0:\n",
        "    print()\n",
        "\n",
        "  if (n % 2 == 0):\n",
        "    n //= 2\n",
        "  else:\n",
        "    n = (n*3)+1\n",
        "print(f\"{n:.0f}\", end=\"\\t\")"
      ],
      "metadata": {
        "colab": {
          "base_uri": "https://localhost:8080/"
        },
        "id": "JXB1H4EtTym6",
        "outputId": "eac5ba53-89dd-488d-db06-71ddc446a900"
      },
      "execution_count": 82,
      "outputs": [
        {
          "output_type": "stream",
          "name": "stdout",
          "text": [
            "33\n",
            "33\t100\t50\t25\t76\t\n",
            "38\t19\t58\t29\t88\t\n",
            "44\t22\t11\t34\t17\t\n",
            "52\t26\t13\t40\t20\t\n",
            "10\t5\t16\t8\t4\t\n",
            "2\t1\t"
          ]
        }
      ]
    },
    {
      "cell_type": "markdown",
      "source": [
        "# ✅23.9"
      ],
      "metadata": {
        "id": "UlM6OVXmT2pa"
      }
    },
    {
      "cell_type": "code",
      "source": [
        "loan_amount = float(input())\n",
        "payment_amount = float(input())\n",
        "interest_rate = float(input())\n",
        "\n",
        "count = 0\n",
        "while loan_amount >= 0:\n",
        "  loan_amount *= (1 + interest_rate)\n",
        "  loan_amount -= payment_amount\n",
        "  count += 1\n",
        "if count == 1:\n",
        "  print(f\"{count} payment\")\n",
        "else:\n",
        "  print(f\"{count} payments\")"
      ],
      "metadata": {
        "colab": {
          "base_uri": "https://localhost:8080/"
        },
        "id": "utqrUs1ZT3Hz",
        "outputId": "5a48353b-6136-4a78-ae4a-3e336b0dbdc2"
      },
      "execution_count": 87,
      "outputs": [
        {
          "output_type": "stream",
          "name": "stdout",
          "text": [
            "50\n",
            "100\n",
            "0.02\n",
            "1 payment\n"
          ]
        }
      ]
    },
    {
      "cell_type": "markdown",
      "source": [
        "# ✅23.10"
      ],
      "metadata": {
        "id": "iNAJAEGVT6m9"
      }
    },
    {
      "cell_type": "code",
      "source": [
        "string_one = input()\n",
        "string_two = input()\n",
        "\n",
        "same_count = 0\n",
        "\n",
        "length_check = 0\n",
        "if len(string_one) > len(string_two):\n",
        "  length_check = string_two\n",
        "else:\n",
        "  length_check = string_one\n",
        "\n",
        "for i in range(len(length_check)):\n",
        "  if string_one[i] == string_two[i]:\n",
        "    same_count += 1\n",
        "\n",
        "if same_count == 1:\n",
        "  print(\"1 character matches\")\n",
        "elif same_count > 1:\n",
        "  print(f\"{same_count} characters match\")\n",
        "else:\n",
        "  print(\"0 characters match\")"
      ],
      "metadata": {
        "colab": {
          "base_uri": "https://localhost:8080/"
        },
        "id": "KJig_sk7T54V",
        "outputId": "181bde94-63e5-4b38-dcbb-44fa86e7ecac"
      },
      "execution_count": 95,
      "outputs": [
        {
          "output_type": "stream",
          "name": "stdout",
          "text": [
            "tes\n",
            "zest\n",
            "2 characters match\n"
          ]
        }
      ]
    }
  ]
}