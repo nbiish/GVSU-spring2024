{
  "nbformat": 4,
  "nbformat_minor": 0,
  "metadata": {
    "colab": {
      "provenance": [],
      "authorship_tag": "ABX9TyMIhyn6c8C24Mxr2nnES5c6",
      "include_colab_link": true
    },
    "kernelspec": {
      "name": "python3",
      "display_name": "Python 3"
    },
    "language_info": {
      "name": "python"
    }
  },
  "cells": [
    {
      "cell_type": "markdown",
      "metadata": {
        "id": "view-in-github",
        "colab_type": "text"
      },
      "source": [
        "<a href=\"https://colab.research.google.com/github/nbiish/GVSU-spring2024/blob/main/Project_1_stuff.ipynb\" target=\"_parent\"><img src=\"https://colab.research.google.com/assets/colab-badge.svg\" alt=\"Open In Colab\"/></a>"
      ]
    },
    {
      "cell_type": "code",
      "execution_count": null,
      "metadata": {
        "id": "W8AJgjY3OzMC"
      },
      "outputs": [],
      "source": [
        "# calculates airfare based on INPUT for:\n",
        "# day\n",
        "# destination\n",
        "# row #\n",
        "# checked bags & optional Premium Plus\n",
        "\n",
        "    #       IMPORTANT\n",
        "    # -Row --> planes have 35 rows\n",
        "    #     First Class w higher fare\n",
        "    #         Rows 1-7\n",
        "    #     Preferred seating w additional fee\n",
        "    #         Rows 8-13\n",
        "    #         Rows 16-20\n",
        "    #         Rows 14-15 <--exit rows\n",
        "\n",
        "# City | Mon  | Tue  | Wed  | Thu  | Fri  | Sat  | Sun\n",
        "#  --- | ---  | ---  | ---  | ---  | ---  | ---  | ---\n",
        "#  DFW | $213 | $198 | $198 | $213 | $399 | $213 | $198\n",
        "#  LAX | $334 | $314 | $314 | $334 | $429 | $334 | $314\n",
        "#  MIA | $279 | $204 | $204 | $279 | $370 | $279 | $204\n",
        "#  SEA | $315 | $294 | $294 | $315 | $430 | $315 | $294\n",
        "#  BOS | $241 | $205 | $205 | $241 | $298 | $241 | $205\n"
      ]
    },
    {
      "cell_type": "code",
      "source": [
        "##### TODO #####\n",
        "# 1. Ask for passenger information\n",
        "#     ✅day\n",
        "#     ✅destination\n",
        "#     ✅row #\n",
        "#     checked bags & optional Premium Plus\n",
        "# 2. Perform a calculations to determine price\n",
        "# 3. Display results\n",
        "\n",
        "#day_of_flight = input(\"Day of flight: \")\n",
        "destination = input(\"Select Destination: DFW LAX MIA SEA BOS\")\n",
        "#row_number = input(\"Desired row number: \")\n"
      ],
      "metadata": {
        "id": "daQwUL-rRYhG"
      },
      "execution_count": null,
      "outputs": []
    }
  ]
}