{
  "nbformat": 4,
  "nbformat_minor": 0,
  "metadata": {
    "colab": {
      "provenance": [],
      "authorship_tag": "ABX9TyO30cNivvU+VqARDLQAmXnk",
      "include_colab_link": true
    },
    "kernelspec": {
      "name": "python3",
      "display_name": "Python 3"
    },
    "language_info": {
      "name": "python"
    }
  },
  "cells": [
    {
      "cell_type": "markdown",
      "metadata": {
        "id": "view-in-github",
        "colab_type": "text"
      },
      "source": [
        "<a href=\"https://colab.research.google.com/github/nbiish/GVSU-spring2024/blob/main/Project_1_stuff.ipynb\" target=\"_parent\"><img src=\"https://colab.research.google.com/assets/colab-badge.svg\" alt=\"Open In Colab\"/></a>"
      ]
    },
    {
      "cell_type": "code",
      "execution_count": null,
      "metadata": {
        "id": "W8AJgjY3OzMC"
      },
      "outputs": [],
      "source": [
        "# calculates airfare based on INPUT for:\n",
        "# day\n",
        "# destination\n",
        "# row #\n",
        "# checked bags & optional Premium Plus\n",
        "\n",
        "    #       IMPORTANT\n",
        "    # -Row --> planes have 35 rows\n",
        "    #     First Class w higher fare\n",
        "    #         Rows 1-7\n",
        "    #     Preferred seating w additional fee\n",
        "    #         Rows 8-13\n",
        "    #         Rows 16-20\n",
        "    #         Rows 14-15 <--exit rows\n",
        "\n",
        "# City | Mon  | Tue  | Wed  | Thu  | Fri  | Sat  | Sun\n",
        "#  --- | ---  | ---  | ---  | ---  | ---  | ---  | ---\n",
        "#  DFW | $213 | $198 | $198 | $213 | $399 | $213 | $198\n",
        "#  LAX | $334 | $314 | $314 | $334 | $429 | $334 | $314\n",
        "#  MIA | $279 | $204 | $204 | $279 | $370 | $279 | $204\n",
        "#  SEA | $315 | $294 | $294 | $315 | $430 | $315 | $294\n",
        "#  BOS | $241 | $205 | $205 | $241 | $298 | $241 | $205\n"
      ]
    },
    {
      "cell_type": "code",
      "source": [
        "##### Phase 1 - TODO #####\n",
        "\n",
        "# [✅] prompt for destination\n",
        "#       [✅] LAX\n",
        "# [✅] identify fare for monday\n",
        "# [✅] calculate taxes at 18%\n",
        "# [✅] calculate total price\n",
        "# [✅] print summary\n",
        "#     [✅] ticket price\n",
        "#     [✅] fare\n",
        "#     [✅] taxes\n",
        "#     [✅] total\n",
        "#\n",
        "# [] zybooks test\n",
        "\n",
        "day = 'MON'\n",
        "\n",
        "print(\"---Enter Information---\\n\")\n",
        "destination = input(\"Destination Options: DFW LAX MIA SEA BOS \").upper()\n",
        "\n",
        "def fare_calculation(destination, day):\n",
        "  fare = 0\n",
        "  tax = 0\n",
        "  total = 0\n",
        "  summary = ''\n",
        "  if destination == 'LAX' and day == 'MON':\n",
        "    fare = 334\n",
        "    tax = fare * 0.18\n",
        "    total = fare + tax\n",
        "    summary = f\"\\nTicket Price Summary\\nFare: ${fare}\\nTaxes: ${tax:.2f}\\nTotal: ${total:.2f}\"\n",
        "  else:\n",
        "    summary = f\"\\n'{destination}' is not an options currently..\"\n",
        "  return summary\n",
        "\n",
        "print(fare_calculation(destination, day))"
      ],
      "metadata": {
        "id": "daQwUL-rRYhG",
        "colab": {
          "base_uri": "https://localhost:8080/"
        },
        "outputId": "4740f074-1bb5-4122-9493-ca05ef923ab6"
      },
      "execution_count": 23,
      "outputs": [
        {
          "output_type": "stream",
          "name": "stdout",
          "text": [
            "---Enter Information---\n",
            "\n",
            "Destination Options: DFW LAX MIA SEA BOS bos\n",
            "\n",
            "'BOS' is not an options currently..\n"
          ]
        }
      ]
    }
  ]
}