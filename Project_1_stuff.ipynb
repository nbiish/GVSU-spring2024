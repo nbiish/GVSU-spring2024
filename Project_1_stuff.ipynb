{
  "nbformat": 4,
  "nbformat_minor": 0,
  "metadata": {
    "colab": {
      "provenance": [],
      "authorship_tag": "ABX9TyOai/U+lDTS/TBYWpfkuc00",
      "include_colab_link": true
    },
    "kernelspec": {
      "name": "python3",
      "display_name": "Python 3"
    },
    "language_info": {
      "name": "python"
    }
  },
  "cells": [
    {
      "cell_type": "markdown",
      "metadata": {
        "id": "view-in-github",
        "colab_type": "text"
      },
      "source": [
        "<a href=\"https://colab.research.google.com/github/nbiish/GVSU-spring2024/blob/main/Project_1_stuff.ipynb\" target=\"_parent\"><img src=\"https://colab.research.google.com/assets/colab-badge.svg\" alt=\"Open In Colab\"/></a>"
      ]
    },
    {
      "cell_type": "code",
      "execution_count": null,
      "metadata": {
        "id": "W8AJgjY3OzMC"
      },
      "outputs": [],
      "source": [
        "# calculates airfare based on INPUT for:\n",
        "# day\n",
        "# destination\n",
        "# row #\n",
        "# checked bags & optional Premium Plus\n",
        "\n",
        "# Project Summary:\n",
        "# 1. Ask for passenger information\n",
        "# 2. Perform a calculations to determine price\n",
        "# 3. Display results\n",
        "\n",
        "# IMPORTANT info\n",
        "# -Destination --> five valid destination\n",
        "# -Day --> Mon, Tue, Wed, Thu, Fri, Sat, Sun\n",
        "# -Row --> planes have 35 rows\n",
        "#     First Class w higher fare\n",
        "#         Rows 1-7\n",
        "#     Preferred seating w additional fee\n",
        "#         Rows 8-13\n",
        "#         Rows 16-20\n",
        "#         Rows 14-15 <--exit rows\n",
        "\n",
        "# Dest | Mon | Tue | Wed | Thu | Fri | Sat | Sun\n",
        "# DFW  | $213| $198| $198| $213| $399| $213| $198\n",
        "# LAX  | $334| $314|\n"
      ]
    },
    {
      "cell_type": "code",
      "source": [],
      "metadata": {
        "id": "daQwUL-rRYhG"
      },
      "execution_count": null,
      "outputs": []
    }
  ]
}