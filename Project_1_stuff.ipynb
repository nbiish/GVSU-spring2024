{
  "nbformat": 4,
  "nbformat_minor": 0,
  "metadata": {
    "colab": {
      "provenance": [],
      "authorship_tag": "ABX9TyPY6bCi6fXyFlUZV5gR5RVt",
      "include_colab_link": true
    },
    "kernelspec": {
      "name": "python3",
      "display_name": "Python 3"
    },
    "language_info": {
      "name": "python"
    }
  },
  "cells": [
    {
      "cell_type": "markdown",
      "metadata": {
        "id": "view-in-github",
        "colab_type": "text"
      },
      "source": [
        "<a href=\"https://colab.research.google.com/github/nbiish/GVSU-spring2024/blob/main/Project_1_stuff.ipynb\" target=\"_parent\"><img src=\"https://colab.research.google.com/assets/colab-badge.svg\" alt=\"Open In Colab\"/></a>"
      ]
    },
    {
      "cell_type": "code",
      "execution_count": null,
      "metadata": {
        "id": "W8AJgjY3OzMC"
      },
      "outputs": [],
      "source": [
        "from _typeshed import SupportsNext\n",
        "# calculates airfare based on INPUT for:\n",
        "# day\n",
        "# destination\n",
        "# row #\n",
        "# checked bags & optional Premium Plus\n",
        "\n",
        "# Project Summary:\n",
        "# 1. Ask for passenger information\n",
        "# 2. Perform a calculations to determine price\n",
        "# 3. Display results\n",
        "\n",
        "# IMPORTANT info\n",
        "# -Destination --> five valid destination\n",
        "# -Day --> Mon, Tue, Wed, Thu, Fri, Sat, Sun\n",
        "# -Row --> planes have 35 rows\n",
        "#     First Class w higher fare\n",
        "#         Rows 1-7\n",
        "#     Preferred seating w additional fee\n",
        "#         Rows 8-13\n",
        "#         Rows 16-20\n",
        "#         Rows 14-15 <--exit rows\n",
        "\n",
        "# Dest | Mon | Tue | Wed | Thu | Fri | Sat | Sun\n",
        "# DFW  | $213| $198| $198| $213| $399| $213| $198\n",
        "# LAX  | $334| $314|\n"
      ]
    },
    {
      "cell_type": "code",
      "source": [],
      "metadata": {
        "id": "daQwUL-rRYhG"
      },
      "execution_count": null,
      "outputs": []
    },
    {
      "cell_type": "code",
      "source": [
        "is_even = True\n",
        "\n",
        "user_input = int(input())\n",
        "\n",
        "num_of_evens = 0\n",
        "input_total = 0\n",
        "\n",
        "while (user_input >= 0) and (is_even):\n",
        "  user_input = int(input())\n",
        "  if user_input % 2 != 0:\n",
        "    is_even = False\n",
        "    break\n",
        "  input_total += user_input\n",
        "  num_of_evens += 1\n",
        "else:\n",
        "  print(f\"{input_total / num_of_evens}\")"
      ],
      "metadata": {
        "id": "3ksQywlhQ0u5"
      },
      "execution_count": null,
      "outputs": []
    },
    {
      "cell_type": "code",
      "source": [
        "user_input = input(\"Enter a 'str': \")\n",
        "\n",
        "for char in user_input:\n",
        "  print(char)"
      ],
      "metadata": {
        "colab": {
          "base_uri": "https://localhost:8080/"
        },
        "id": "XOhBjnO2VQmx",
        "outputId": "64b7d042-0c1e-4bcc-97c9-a4463760ece2"
      },
      "execution_count": 19,
      "outputs": [
        {
          "output_type": "stream",
          "name": "stdout",
          "text": [
            "Enter a 'str': verticality\n",
            "v\n",
            "e\n",
            "r\n",
            "t\n",
            "i\n",
            "c\n",
            "a\n",
            "l\n",
            "i\n",
            "t\n",
            "y\n"
          ]
        }
      ]
    }
  ]
}